{
  "cells": [
    {
      "cell_type": "markdown",
      "metadata": {
        "id": "eF5mZ_1oZmnK"
      },
      "source": [
        "# **MÉTODO 3**\n",
        "# **Contrafactuales guiados por prototipos (CFP)**"
      ]
    },
    {
      "cell_type": "markdown",
      "metadata": {
        "id": "_ZKke2cO0Yhz"
      },
      "source": [
        "Este método se describe en el artículo https://arxiv.org/abs/1907.02584 y puede generar instancias contrafactuales guiadas por prototipos de clase.\n",
        "\n",
        "Para una determinada instancia X, el método crea un prototipo para cada clase de predicción utilizando un ***codificador automático***(tipo de red neuronal artificial que se utiliza para aprender codificaciones eficientes de datos sin etiquetar, aprendizaje no supervisado) o ***árboles k-dimensionales***. Luego, se utiliza la clase prototipo más cercana distinta de la clase predicha originalmente para guiar la búsqueda contrafactual.\n",
        "\n",
        "\n",
        "##### *Ejemplo dataset MNIST*\n",
        "*Con el `dataset MNIST` la clase más cercana a un 7 podría ser un 9. Como resultado, el término de pérdida del prototipo intentará minimizar la distancia entre el contrafactual propuesto y el prototipo de un 9. Esto acelera la búsqueda hacia un contrafactual satisfactorio. dirigiéndolo hacia una solución interpretable desde el inicio de la optimización. También ayuda a evitar contrafactuales fuera de distribución con las perturbaciones dirigidas a un prototipo de otra clase.*\n",
        "\n",
        "\n",
        "La **función de pérdida** a optimizar es la siguiente:\n",
        "\n",
        "$$\n",
        "Loss = c \\cdot L_{pred} + \\beta \\cdot L_1 + L_2 + L_{AE} + L_{proto}\n",
        "$$\n",
        "\n",
        "El primer término de pérdida se relaciona con la función de predicción del modelo, los siguientes 2 términos definen la regularización neta elástica mientras que los 2 últimos términos son opcionales. El objetivo de $L_{AE}$\n",
        "es penalizar los contrafactuales fuera de distribución mientras $L_{proto}$\n",
        "guía el contrafactual hacia un prototipo.\n",
        "\n",
        "Cuando solo tenemos acceso a la función de predicción del modelo y no podemos disfrutar plenamente de los beneficios de la diferenciación automática, los prototipos nos permiten eliminar el término de pérdida de la función de predicción $L_{pred}$ y seguir generando contrafactuales de alta calidad. Esto reduce drásticamente la cantidad de llamadas de predicción realizadas durante el paso de actualización del gradiente numérico y nuevamente acelera la búsqueda.\n",
        "\n",
        "Este método produce resultados mucho más interpretables que CFI() y CEM().\n",
        "\n",
        "Debido a que el término prototipo dirige la solución, podemos eliminar el término de pérdida de predicción. Esto hace que este método sea mucho más rápido si utilizamos un modelo de caja negra, ya que no necesitamos calcular los gradientes numéricamente. Sin embargo, en ocasiones el prototipo no es miembro de la clase objetivo. En este caso, terminará con un contrafactual incorrecto.\n",
        "\n",
        "Otras opciones incluyen generar contrafactuales para clases específicas o incluir restricciones de puntuación de confianza para garantizar que el contrafactual sea lo suficientemente cercano a la clase recién predicha en comparación con la clase original. A lo largo de este cuaderno se ilustran diferentes casos de uso."
      ]
    },
    {
      "cell_type": "markdown",
      "metadata": {},
      "source": [
        "## EJEMPLOS DE USO"
      ]
    },
    {
      "cell_type": "markdown",
      "metadata": {
        "id": "lyFUAF05tUoU"
      },
      "source": [
        "Para habilitar la compatibilidad con `CounterfactualProto`, es posible que debamos ejecutar previamente el siguiente código en la consola:\n",
        "\n",
        "    pip install alibi[tensorflow]"
      ]
    },
    {
      "cell_type": "code",
      "execution_count": 3,
      "metadata": {
        "colab": {
          "base_uri": "https://localhost:8080/"
        },
        "id": "lyaG9X0ytcIP",
        "outputId": "5fc55f5b-7ebb-4527-f0b7-875e3a2ec2a2"
      },
      "outputs": [
        {
          "name": "stdout",
          "output_type": "stream",
          "text": [
            "TF version:  2.14.1\n",
            "Eager execution enabled:  False\n"
          ]
        }
      ],
      "source": [
        "%matplotlib inline\n",
        "import matplotlib.pyplot as plt\n",
        "\n",
        "import tensorflow as tf\n",
        "tf.get_logger().setLevel(40) # suppress deprecation messages\n",
        "tf.compat.v1.disable_v2_behavior() # disable TF2 behaviour as alibi code still relies on TF1 constructs\n",
        "from tensorflow.keras.layers import Dense, Input\n",
        "from tensorflow.keras.models import Model, load_model\n",
        "from tensorflow.keras.utils import to_categorical\n",
        "\n",
        "import os\n",
        "import numpy as np\n",
        "import pandas as pd\n",
        "from sklearn.datasets import fetch_california_housing\n",
        "from sklearn.model_selection import train_test_split\n",
        "from alibi.explainers import CounterfactualProto\n",
        "\n",
        "print('TF version: ', tf.__version__)\n",
        "print('Eager execution enabled: ', tf.executing_eagerly()) # False"
      ]
    },
    {
      "cell_type": "markdown",
      "metadata": {
        "id": "ylhKRxBd97Yv"
      },
      "source": [
        "En la `librería Alibi`:\n",
        "\n",
        "-**1. Explicaciones contrafactuales con variables categóricas codificadas one-hot u ordinalmente**.\n",
        "\n",
        "-**2. Contrafactuales guiados por prototipos en el conjunto de datos de vivienda de California**.\n",
        "\n",
        "-**3. Contrafactuales guiados por prototipos en MNIST**."
      ]
    },
    {
      "cell_type": "markdown",
      "metadata": {
        "id": "dcCNZo4Qk_P0"
      },
      "source": [
        "## **1. Explicaciones contrafactuales con variables categóricas codificadas con one-hot encoding u ordinalmente**\n",
        "\n",
        "Método para explicar modelos de aprendizaje automático que maneja datos con variables categóricas.\n",
        "\n",
        "A diferencia de los métodos convencionales que pueden no capturar la estructura subyacente de los datos, este método utiliza el contexto proporcionado por otras características y/o las predicciones del modelo para capturar la relación entre categorías. Esto se logra mediante la captura de distancias entre categorías y su posterior escalamiento multidimensional.\n",
        "\n",
        "Para más información sobre un ejemplo concreto de este ejemplo de uso:\n",
        "https://docs.seldon.io/projects/alibi/en/latest/examples/cfproto_cat_adult_ohe.html"
      ]
    },
    {
      "cell_type": "markdown",
      "metadata": {
        "id": "GdEPIV5KxrIL"
      },
      "source": [
        "## **2. Contrafactuales guiados por prototipos en el conjunto de datos de vivienda de California**\n",
        "\n",
        "A continuación, vamos a analizar un ejemplo de uso mediante árboles k-dimensionales para la construcción de los prototipos. Entrenaremos una red neuronal simple para predecir si los precios de la vivienda en los distritos de California están por encima del valor medio y luego, buscaremos un contrafactual para ver qué variables deben cambiarse para aumentar o disminuir el precio de una vivienda por encima o por debajo del valor medio.\n",
        "\n"
      ]
    },
    {
      "cell_type": "markdown",
      "metadata": {
        "id": "dcswVaoI0DaV"
      },
      "source": [
        "### Carga y preparación del conjunto de datos de vivienda de California"
      ]
    },
    {
      "cell_type": "markdown",
      "metadata": {},
      "source": [
        "Cargamos los datos desde el módulo sklearn.datasets, extraemos sus características y su objetivo, y obtenemos los nombres de cada una de las características."
      ]
    },
    {
      "cell_type": "code",
      "execution_count": 5,
      "metadata": {
        "colab": {
          "base_uri": "https://localhost:8080/",
          "height": 373
        },
        "id": "Z7xcaQtG0AKI",
        "outputId": "342d90b9-9551-4d4d-f6a6-c0a93f5ce28a"
      },
      "outputs": [
        {
          "data": {
            "text/html": [
              "<div>\n",
              "<style scoped>\n",
              "    .dataframe tbody tr th:only-of-type {\n",
              "        vertical-align: middle;\n",
              "    }\n",
              "\n",
              "    .dataframe tbody tr th {\n",
              "        vertical-align: top;\n",
              "    }\n",
              "\n",
              "    .dataframe thead th {\n",
              "        text-align: right;\n",
              "    }\n",
              "</style>\n",
              "<table border=\"1\" class=\"dataframe\">\n",
              "  <thead>\n",
              "    <tr style=\"text-align: right;\">\n",
              "      <th></th>\n",
              "      <th>MedInc</th>\n",
              "      <th>HouseAge</th>\n",
              "      <th>AveRooms</th>\n",
              "      <th>AveBedrms</th>\n",
              "      <th>Population</th>\n",
              "      <th>AveOccup</th>\n",
              "      <th>Latitude</th>\n",
              "      <th>Longitude</th>\n",
              "    </tr>\n",
              "  </thead>\n",
              "  <tbody>\n",
              "    <tr>\n",
              "      <th>0</th>\n",
              "      <td>8.3252</td>\n",
              "      <td>41.0</td>\n",
              "      <td>6.984127</td>\n",
              "      <td>1.023810</td>\n",
              "      <td>322.0</td>\n",
              "      <td>2.555556</td>\n",
              "      <td>37.88</td>\n",
              "      <td>-122.23</td>\n",
              "    </tr>\n",
              "    <tr>\n",
              "      <th>1</th>\n",
              "      <td>8.3014</td>\n",
              "      <td>21.0</td>\n",
              "      <td>6.238137</td>\n",
              "      <td>0.971880</td>\n",
              "      <td>2401.0</td>\n",
              "      <td>2.109842</td>\n",
              "      <td>37.86</td>\n",
              "      <td>-122.22</td>\n",
              "    </tr>\n",
              "    <tr>\n",
              "      <th>2</th>\n",
              "      <td>7.2574</td>\n",
              "      <td>52.0</td>\n",
              "      <td>8.288136</td>\n",
              "      <td>1.073446</td>\n",
              "      <td>496.0</td>\n",
              "      <td>2.802260</td>\n",
              "      <td>37.85</td>\n",
              "      <td>-122.24</td>\n",
              "    </tr>\n",
              "    <tr>\n",
              "      <th>3</th>\n",
              "      <td>5.6431</td>\n",
              "      <td>52.0</td>\n",
              "      <td>5.817352</td>\n",
              "      <td>1.073059</td>\n",
              "      <td>558.0</td>\n",
              "      <td>2.547945</td>\n",
              "      <td>37.85</td>\n",
              "      <td>-122.25</td>\n",
              "    </tr>\n",
              "    <tr>\n",
              "      <th>4</th>\n",
              "      <td>3.8462</td>\n",
              "      <td>52.0</td>\n",
              "      <td>6.281853</td>\n",
              "      <td>1.081081</td>\n",
              "      <td>565.0</td>\n",
              "      <td>2.181467</td>\n",
              "      <td>37.85</td>\n",
              "      <td>-122.25</td>\n",
              "    </tr>\n",
              "  </tbody>\n",
              "</table>\n",
              "</div>"
            ],
            "text/plain": [
              "   MedInc  HouseAge  AveRooms  AveBedrms  Population  AveOccup  Latitude  \\\n",
              "0  8.3252      41.0  6.984127   1.023810       322.0  2.555556     37.88   \n",
              "1  8.3014      21.0  6.238137   0.971880      2401.0  2.109842     37.86   \n",
              "2  7.2574      52.0  8.288136   1.073446       496.0  2.802260     37.85   \n",
              "3  5.6431      52.0  5.817352   1.073059       558.0  2.547945     37.85   \n",
              "4  3.8462      52.0  6.281853   1.081081       565.0  2.181467     37.85   \n",
              "\n",
              "   Longitude  \n",
              "0    -122.23  \n",
              "1    -122.22  \n",
              "2    -122.24  \n",
              "3    -122.25  \n",
              "4    -122.25  "
            ]
          },
          "execution_count": 5,
          "metadata": {},
          "output_type": "execute_result"
        }
      ],
      "source": [
        "california = fetch_california_housing(as_frame=True)\n",
        "X = california.data.to_numpy()\n",
        "target = california.target.to_numpy()\n",
        "feature_names = california.feature_names\n",
        "\n",
        "california.data.head()"
      ]
    },
    {
      "cell_type": "markdown",
      "metadata": {},
      "source": [
        "Cada fila representa un grupo censal completo. Explicación de características:\n",
        "\n",
        "-`MedInc`- ingreso medio en el grupo de bloques.\n",
        "\n",
        "-`HouseAge`- edad media de la vivienda en el grupo de bloques.\n",
        "\n",
        "-`AveRooms`- número medio de habitaciones por hogar.\n",
        "\n",
        "-`AveBedrms`- número medio de dormitorios por hogar.\n",
        "\n",
        "-`Population`- bloquear la población del grupo.\n",
        "\n",
        "-`AveOccup`- número medio de miembros del hogar.\n",
        "\n",
        "-`Latitude`- latitud del grupo de bloques.\n",
        "\n",
        "-`Longitude`- longitud del grupo de bloques."
      ]
    },
    {
      "cell_type": "markdown",
      "metadata": {},
      "source": [
        "Lo vamos a transformar en una **tarea de clasificación**: \n",
        "el objetivo se convierte en saber si el precio de la vivienda está por encima de la mediana general o no."
      ]
    },
    {
      "cell_type": "markdown",
      "metadata": {},
      "source": [
        "Creamos un nuevo array de numpy `y`, lleno de ceros y con la misma longitud que `target`. Sobre `y`, reemplazamos por el valor 1 aquellos índices donde los valores en `target` son mayores que su mediana."
      ]
    },
    {
      "cell_type": "code",
      "execution_count": 6,
      "metadata": {
        "id": "e0BJKrCX0BJS"
      },
      "outputs": [],
      "source": [
        "y = np.zeros((target.shape[0],))\n",
        "y[np.where(target > np.median(target))[0]] = 1"
      ]
    },
    {
      "cell_type": "markdown",
      "metadata": {},
      "source": [
        "Estandarizamos los datos"
      ]
    },
    {
      "cell_type": "code",
      "execution_count": 7,
      "metadata": {
        "id": "yDOz4EfU0BGo"
      },
      "outputs": [],
      "source": [
        "mu = X.mean(axis=0)\n",
        "sigma = X.std(axis=0)\n",
        "X = (X - mu) / sigma"
      ]
    },
    {
      "cell_type": "markdown",
      "metadata": {},
      "source": [
        "Definimos los conjuntos de entrenamiento y de prueba(que representará el 20% de los datos). Luego, utilizamos la función `to_categorical` para convertir las etiquetas de los conjuntos de entrenamiento y de test en formato de codificacion one-hot encoding."
      ]
    },
    {
      "cell_type": "code",
      "execution_count": 8,
      "metadata": {
        "id": "JQqq5obN0BD3"
      },
      "outputs": [],
      "source": [
        "X_train, X_test, y_train, y_test = train_test_split(X, y, test_size=0.2, random_state=42)\n",
        "y_train = to_categorical(y_train)\n",
        "y_test = to_categorical(y_test)"
      ]
    },
    {
      "cell_type": "markdown",
      "metadata": {},
      "source": [
        "Definimos la función `nn_model` que define una red neuronal con dos capas densas de 40 neuronas cada una y una capa de salida con 2 neuronas(representando las dos clases de salida) con la función de activación `softmax`. La red se compilará usando la función de loss `categorical_crossentropy`, el optimizador `sgd` y la métrica de monotorización `accuracy`."
      ]
    },
    {
      "cell_type": "code",
      "execution_count": 9,
      "metadata": {
        "id": "SYzUO2BY0BAt"
      },
      "outputs": [],
      "source": [
        "np.random.seed(42)\n",
        "tf.random.set_seed(42)"
      ]
    },
    {
      "cell_type": "code",
      "execution_count": 10,
      "metadata": {
        "id": "m7MQ3nZJ0A9n"
      },
      "outputs": [],
      "source": [
        "def nn_model():\n",
        "    x_in = Input(shape=(8,))\n",
        "    x = Dense(40, activation='relu')(x_in)\n",
        "    x = Dense(40, activation='relu')(x)\n",
        "    x_out = Dense(2, activation='softmax')(x)\n",
        "    nn = Model(inputs=x_in, outputs=x_out)\n",
        "    nn.compile(loss='categorical_crossentropy', optimizer='sgd', metrics=['accuracy'])\n",
        "    return nn"
      ]
    },
    {
      "cell_type": "markdown",
      "metadata": {},
      "source": [
        "Entrenamos el modelo con los datos de entrenamiento y lo guardamos en un archivo en formato HDF5."
      ]
    },
    {
      "cell_type": "code",
      "execution_count": 11,
      "metadata": {},
      "outputs": [
        {
          "name": "stdout",
          "output_type": "stream",
          "text": [
            "Model: \"model\"\n",
            "_________________________________________________________________\n",
            " Layer (type)                Output Shape              Param #   \n",
            "=================================================================\n",
            " input_1 (InputLayer)        [(None, 8)]               0         \n",
            "                                                                 \n",
            " dense (Dense)               (None, 40)                360       \n",
            "                                                                 \n",
            " dense_1 (Dense)             (None, 40)                1640      \n",
            "                                                                 \n",
            " dense_2 (Dense)             (None, 2)                 82        \n",
            "                                                                 \n",
            "=================================================================\n",
            "Total params: 2082 (8.13 KB)\n",
            "Trainable params: 2082 (8.13 KB)\n",
            "Non-trainable params: 0 (0.00 Byte)\n",
            "_________________________________________________________________\n"
          ]
        },
        {
          "name": "stderr",
          "output_type": "stream",
          "text": [
            "c:\\Users\\inese\\anaconda3\\envs\\NLP\\Lib\\site-packages\\keras\\src\\engine\\training.py:3079: UserWarning: You are saving your model as an HDF5 file via `model.save()`. This file format is considered legacy. We recommend using instead the native Keras format, e.g. `model.save('my_model.keras')`.\n",
            "  saving_api.save_model(\n"
          ]
        }
      ],
      "source": [
        "nn = nn_model()\n",
        "nn.summary()\n",
        "nn.fit(X_train, y_train, batch_size=64, epochs=500, verbose=0)\n",
        "nn.save('nn_california.h5', save_format='h5')"
      ]
    },
    {
      "cell_type": "markdown",
      "metadata": {},
      "source": [
        "Observamos el accuracy del modelo:"
      ]
    },
    {
      "cell_type": "code",
      "execution_count": 12,
      "metadata": {},
      "outputs": [
        {
          "name": "stderr",
          "output_type": "stream",
          "text": [
            "c:\\Users\\inese\\anaconda3\\envs\\NLP\\Lib\\site-packages\\keras\\src\\engine\\training_v1.py:2335: UserWarning: `Model.state_updates` will be removed in a future version. This property should not be used in TensorFlow 2.0, as `updates` are applied automatically.\n",
            "  updates = self.state_updates\n"
          ]
        },
        {
          "name": "stdout",
          "output_type": "stream",
          "text": [
            "Test accuracy:  0.87451553\n"
          ]
        }
      ],
      "source": [
        "nn = load_model('nn_california.h5')\n",
        "score = nn.evaluate(X_test, y_test, verbose=0)\n",
        "print('Test accuracy: ', score[1])"
      ]
    },
    {
      "cell_type": "markdown",
      "metadata": {},
      "source": [
        "### Generación del contrafactual guiado por el prototipo de clase más cercano"
      ]
    },
    {
      "cell_type": "markdown",
      "metadata": {},
      "source": [
        "Instancia original:"
      ]
    },
    {
      "cell_type": "markdown",
      "metadata": {},
      "source": [
        "Remodelación del conjunto de prueba para que tenga una dimensión adicional al principio."
      ]
    },
    {
      "cell_type": "code",
      "execution_count": 13,
      "metadata": {},
      "outputs": [],
      "source": [
        "X = X_test[1].reshape((1,) + X_test[1].shape)\n",
        "shape = X.shape"
      ]
    },
    {
      "cell_type": "markdown",
      "metadata": {},
      "source": [
        "Carga del previo modelo e inicialización del objeto `CounterfactualProto`  para explicar las predicciones del modelo cargado usando árboles k-dimensionales, un parámetro de suavizado `theta`=10, un número máximo de iteraciones, el rango de características..."
      ]
    },
    {
      "cell_type": "code",
      "execution_count": 14,
      "metadata": {},
      "outputs": [
        {
          "name": "stderr",
          "output_type": "stream",
          "text": [
            "c:\\Users\\inese\\anaconda3\\envs\\NLP\\Lib\\site-packages\\keras\\src\\engine\\training_v1.py:2359: UserWarning: `Model.state_updates` will be removed in a future version. This property should not be used in TensorFlow 2.0, as `updates` are applied automatically.\n",
            "  updates=self.state_updates,\n",
            "No encoder specified. Using k-d trees to represent class prototypes.\n"
          ]
        },
        {
          "data": {
            "text/plain": [
              "CounterfactualProto(meta={\n",
              "  'name': 'CounterfactualProto',\n",
              "  'type': ['blackbox', 'tensorflow', 'keras'],\n",
              "  'explanations': ['local'],\n",
              "  'params': {\n",
              "              'shape': (1, 8),\n",
              "              'kappa': 0.0,\n",
              "              'beta': 0.1,\n",
              "              'feature_range': (array([-1.77429947, -2.19618048, -1.83504572, -1.61076772, -1.25612255,\n",
              "       -0.22899997, -1.44288613, -2.38599234]), array([  5.85828581,   1.85618152,  55.16323628,  51.78248741,\n",
              "        30.25033022, 119.41910319,   2.95806762,   2.62528006])),\n",
              "              'gamma': 0.0,\n",
              "              'theta': 10.0,\n",
              "              'cat_vars': None,\n",
              "              'ohe': False,\n",
              "              'use_kdtree': True,\n",
              "              'learning_rate_init': 0.01,\n",
              "              'max_iterations': 1000,\n",
              "              'c_init': 1.0,\n",
              "              'c_steps': 10,\n",
              "              'eps': (0.001, 0.001),\n",
              "              'clip': (-1000.0, 1000.0),\n",
              "              'update_num_grad': 1,\n",
              "              'write_dir': None,\n",
              "              'is_model': True,\n",
              "              'is_ae': False,\n",
              "              'is_enc': False,\n",
              "              'enc_or_kdtree': True,\n",
              "              'is_cat': False,\n",
              "              'trustscore_kwargs': None,\n",
              "              'd_type': 'abdm',\n",
              "              'w': None,\n",
              "              'disc_perc': (25, 50, 75),\n",
              "              'standardize_cat_vars': False,\n",
              "              'smooth': 1.0,\n",
              "              'center': True,\n",
              "              'update_feature_range': True}\n",
              "            ,\n",
              "  'version': '0.9.6'}\n",
              ")"
            ]
          },
          "execution_count": 14,
          "metadata": {},
          "output_type": "execute_result"
        }
      ],
      "source": [
        "nn = load_model('nn_california.h5')\n",
        "\n",
        "cf = CounterfactualProto(nn, shape, use_kdtree=True, theta=10., max_iterations=1000,\n",
        "                         feature_range=(X_train.min(axis=0), X_train.max(axis=0)),\n",
        "                         c_init=1., c_steps=10)\n",
        "\n",
        "cf.fit(X_train)"
      ]
    },
    {
      "cell_type": "markdown",
      "metadata": {},
      "source": [
        "Generación de la explicación contrafactual para una instancia en particular X. La explicación resultante se almacena en la variable ***explanation***, que puede contener información sobre cómo cambiar las características de X para que la predicción del modelo cambie."
      ]
    },
    {
      "cell_type": "code",
      "execution_count": 15,
      "metadata": {},
      "outputs": [],
      "source": [
        "explanation = cf.explain(X)"
      ]
    },
    {
      "cell_type": "markdown",
      "metadata": {},
      "source": [
        "Se visualiza la predicción original y la predicción contrafactual obtenidas como parte de la explicación contrafactual generada."
      ]
    },
    {
      "cell_type": "code",
      "execution_count": 16,
      "metadata": {},
      "outputs": [
        {
          "name": "stdout",
          "output_type": "stream",
          "text": [
            "Original prediction: 0\n",
            "Counterfactual prediction: 1\n"
          ]
        }
      ],
      "source": [
        "print(f'Original prediction: {explanation.orig_class}')\n",
        "print(f'Counterfactual prediction: {explanation.cf[\"class\"]}')"
      ]
    },
    {
      "cell_type": "markdown",
      "metadata": {},
      "source": [
        "La predicción pasó de 0 (valor por debajo de la mediana) a 1 (por encima de la mediana):"
      ]
    },
    {
      "cell_type": "markdown",
      "metadata": {},
      "source": [
        "Echemos un vistazo al contrafactual. Para que los resultados sean más interpretables, primero desharemos el paso de preprocesamiento y luego verificaremos en qué se diferencia el contrafactual de la instancia original:"
      ]
    },
    {
      "cell_type": "code",
      "execution_count": 18,
      "metadata": {},
      "outputs": [
        {
          "name": "stdout",
          "output_type": "stream",
          "text": [
            "AveOccup: -0.724322499801721\n",
            "Latitude: -0.27665028505489175\n"
          ]
        }
      ],
      "source": [
        "orig = X * sigma + mu\n",
        "counterfactual = explanation.cf['X'] * sigma + mu\n",
        "delta = counterfactual - orig\n",
        "for i, f in enumerate(feature_names):\n",
        "    if np.abs(delta[0][i]) > 1e-4:\n",
        "        print(f'{f}: {delta[0][i]}')"
      ]
    },
    {
      "cell_type": "markdown",
      "metadata": {},
      "source": [
        "Entonces, para que el modelo considere que el grupo censal tiene precios de vivienda superiores a la mediana, la ocupación promedio(`AveOccup:`) tendría que ser menor en casi un miembro completo del hogar, y la ubicación del grupo censal(`Latitude`) tendría que desplazarse ligeramente hacia el sur."
      ]
    },
    {
      "cell_type": "markdown",
      "metadata": {},
      "source": [
        "Comparando el caso original y el contrafactual uno al lado del otro:"
      ]
    },
    {
      "cell_type": "code",
      "execution_count": 19,
      "metadata": {
        "id": "eZB9nhsZ0A5_"
      },
      "outputs": [
        {
          "data": {
            "text/html": [
              "<div>\n",
              "<style scoped>\n",
              "    .dataframe tbody tr th:only-of-type {\n",
              "        vertical-align: middle;\n",
              "    }\n",
              "\n",
              "    .dataframe tbody tr th {\n",
              "        vertical-align: top;\n",
              "    }\n",
              "\n",
              "    .dataframe thead th {\n",
              "        text-align: right;\n",
              "    }\n",
              "</style>\n",
              "<table border=\"1\" class=\"dataframe\">\n",
              "  <thead>\n",
              "    <tr style=\"text-align: right;\">\n",
              "      <th></th>\n",
              "      <th>MedInc</th>\n",
              "      <th>HouseAge</th>\n",
              "      <th>AveRooms</th>\n",
              "      <th>AveBedrms</th>\n",
              "      <th>Population</th>\n",
              "      <th>AveOccup</th>\n",
              "      <th>Latitude</th>\n",
              "      <th>Longitude</th>\n",
              "    </tr>\n",
              "  </thead>\n",
              "  <tbody>\n",
              "    <tr>\n",
              "      <th>0</th>\n",
              "      <td>2.5313</td>\n",
              "      <td>30.0</td>\n",
              "      <td>5.039384</td>\n",
              "      <td>1.193493</td>\n",
              "      <td>1565.0</td>\n",
              "      <td>2.679795</td>\n",
              "      <td>35.14</td>\n",
              "      <td>-119.46</td>\n",
              "    </tr>\n",
              "  </tbody>\n",
              "</table>\n",
              "</div>"
            ],
            "text/plain": [
              "   MedInc  HouseAge  AveRooms  AveBedrms  Population  AveOccup  Latitude  \\\n",
              "0  2.5313      30.0  5.039384   1.193493      1565.0  2.679795     35.14   \n",
              "\n",
              "   Longitude  \n",
              "0    -119.46  "
            ]
          },
          "execution_count": 19,
          "metadata": {},
          "output_type": "execute_result"
        }
      ],
      "source": [
        "pd.DataFrame(orig, columns=feature_names)"
      ]
    },
    {
      "cell_type": "code",
      "execution_count": 20,
      "metadata": {
        "id": "F_abWRfr0A25"
      },
      "outputs": [
        {
          "data": {
            "text/html": [
              "<div>\n",
              "<style scoped>\n",
              "    .dataframe tbody tr th:only-of-type {\n",
              "        vertical-align: middle;\n",
              "    }\n",
              "\n",
              "    .dataframe tbody tr th {\n",
              "        vertical-align: top;\n",
              "    }\n",
              "\n",
              "    .dataframe thead th {\n",
              "        text-align: right;\n",
              "    }\n",
              "</style>\n",
              "<table border=\"1\" class=\"dataframe\">\n",
              "  <thead>\n",
              "    <tr style=\"text-align: right;\">\n",
              "      <th></th>\n",
              "      <th>MedInc</th>\n",
              "      <th>HouseAge</th>\n",
              "      <th>AveRooms</th>\n",
              "      <th>AveBedrms</th>\n",
              "      <th>Population</th>\n",
              "      <th>AveOccup</th>\n",
              "      <th>Latitude</th>\n",
              "      <th>Longitude</th>\n",
              "    </tr>\n",
              "  </thead>\n",
              "  <tbody>\n",
              "    <tr>\n",
              "      <th>0</th>\n",
              "      <td>2.5313</td>\n",
              "      <td>30.0</td>\n",
              "      <td>5.039384</td>\n",
              "      <td>1.193493</td>\n",
              "      <td>1565.000004</td>\n",
              "      <td>1.955472</td>\n",
              "      <td>34.86335</td>\n",
              "      <td>-119.46</td>\n",
              "    </tr>\n",
              "  </tbody>\n",
              "</table>\n",
              "</div>"
            ],
            "text/plain": [
              "   MedInc  HouseAge  AveRooms  AveBedrms   Population  AveOccup  Latitude  \\\n",
              "0  2.5313      30.0  5.039384   1.193493  1565.000004  1.955472  34.86335   \n",
              "\n",
              "   Longitude  \n",
              "0    -119.46  "
            ]
          },
          "execution_count": 20,
          "metadata": {},
          "output_type": "execute_result"
        }
      ],
      "source": [
        "pd.DataFrame(counterfactual, columns=feature_names)"
      ]
    },
    {
      "cell_type": "markdown",
      "metadata": {},
      "source": [
        "Limpiar:"
      ]
    },
    {
      "cell_type": "code",
      "execution_count": 21,
      "metadata": {
        "id": "-aeBQMxd0AzU"
      },
      "outputs": [],
      "source": [
        "os.remove('nn_california.h5')"
      ]
    },
    {
      "cell_type": "markdown",
      "metadata": {
        "id": "foJsvlv49z_L"
      },
      "source": [
        "## **3. Contrafactuales guiados por prototipos en MNIST**"
      ]
    },
    {
      "cell_type": "markdown",
      "metadata": {
        "id": "X2J4BFgU6C8O"
      },
      "source": [
        "### Cargar y preparar datos MNIST\n",
        "\n",
        "El conjunto de datos MNIST contiene un conjunto de entrenamiento de 60.000 imágenes en escala de grises de 28x28 de 10 dígitos, junto con un conjunto de prueba de 10.000 imágenes.\n",
        "\n",
        "Los dígitos representados varían entre el 0 y el 9, por lo que tendremos solamente representaciones de estos."
      ]
    },
    {
      "cell_type": "code",
      "execution_count": 22,
      "metadata": {
        "colab": {
          "base_uri": "https://localhost:8080/"
        },
        "id": "n2MulUhW5wfv",
        "outputId": "32e02f15-ca08-4d8d-988e-3939270f59a5"
      },
      "outputs": [
        {
          "name": "stdout",
          "output_type": "stream",
          "text": [
            "x_train shape: (60000, 28, 28) y_train shape: (60000,)\n",
            "x_test shape: (10000, 28, 28) y_test shape: (10000,)\n"
          ]
        }
      ],
      "source": [
        "(x_train, y_train), (x_test, y_test) = tf.keras.datasets.mnist.load_data()\n",
        "print('x_train shape:', x_train.shape, 'y_train shape:', y_train.shape)\n",
        "print('x_test shape:', x_test.shape, 'y_test shape:', y_test.shape)"
      ]
    },
    {
      "cell_type": "markdown",
      "metadata": {
        "id": "NzUqV_fo6X-X"
      },
      "source": [
        "### Preparar datos: escalar, remodelar y categorizar\n",
        "\n",
        "Realizamos la **normalización** de los valores de píxeles de las imágenes tanto en el conjunto de entrenamiento como en el de test, convirtiéndolos a tipo 'float32' y luego dividiendo cada valor por 255.\n",
        "\n",
        "Realizamos una **reorganización** tanto del conjunto de entrenamiento como del de prueba para agregar una dimensión adicional al final, necesaria para trabajar con convoluciones dde Keras o TensorFlow.\n",
        "\n",
        "Realizamos una **categorización de las etiquetas de clase** para los dos conjuntos a representaciones de one-hot encoding"
      ]
    },
    {
      "cell_type": "code",
      "execution_count": 23,
      "metadata": {
        "colab": {
          "base_uri": "https://localhost:8080/"
        },
        "id": "WZxSO1tR5wdV",
        "outputId": "014b4be9-60b3-4289-e91d-78792dc0cdcd"
      },
      "outputs": [
        {
          "name": "stdout",
          "output_type": "stream",
          "text": [
            "x_train shape: (60000, 28, 28, 1) x_test shape: (10000, 28, 28, 1)\n",
            "y_train shape: (60000, 10) y_test shape: (10000, 10)\n"
          ]
        }
      ],
      "source": [
        "x_train = x_train.astype('float32') / 255\n",
        "x_test = x_test.astype('float32') / 255\n",
        "x_train = np.reshape(x_train, x_train.shape + (1,))\n",
        "x_test = np.reshape(x_test, x_test.shape + (1,))\n",
        "print('x_train shape:', x_train.shape, 'x_test shape:', x_test.shape)\n",
        "y_train = to_categorical(y_train)\n",
        "y_test = to_categorical(y_test)\n",
        "print('y_train shape:', y_train.shape, 'y_test shape:', y_test.shape)"
      ]
    },
    {
      "cell_type": "markdown",
      "metadata": {
        "id": "_Bs0O9ejbzDS"
      },
      "source": [
        "Volvemos a normalizar los valores de píxeles de las imágenes en los conjuntos de entrenamiento y prueba para que estén dentro de un rango específico definido por $x_{min}=-0.5$ y $x_{max}=0.5$."
      ]
    },
    {
      "cell_type": "code",
      "execution_count": 24,
      "metadata": {
        "id": "8KE8le9Z5wa3"
      },
      "outputs": [],
      "source": [
        "xmin, xmax = -.5, .5\n",
        "x_train = ((x_train - x_train.min()) / (x_train.max() - x_train.min())) * (xmax - xmin) + xmin\n",
        "x_test = ((x_test - x_test.min()) / (x_test.max() - x_test.min())) * (xmax - xmin) + xmin"
      ]
    },
    {
      "cell_type": "markdown",
      "metadata": {
        "id": "EuA2n-X26fBv"
      },
      "source": [
        "### Definir y entrenar el modelo CNN"
      ]
    },
    {
      "cell_type": "markdown",
      "metadata": {
        "id": "x_4TIvHmcLPI"
      },
      "source": [
        "Se define un modelo CNN(Convolutional Neural Network) para clasificar las imágenes MNIST.\n",
        "\n",
        "Se utilizan capas convolucionales y de max-pooling seguidas de dropout para reducir el overfitting. Por lo que podemos intuir que las características se aplanan y se conectan a través de capas densas para la clasificación, con salida softmax y compilación con pérdida categórica y optimizador Adam."
      ]
    },
    {
      "cell_type": "code",
      "execution_count": 25,
      "metadata": {
        "id": "Yp3YlAKu5wYj"
      },
      "outputs": [],
      "source": [
        "def cnn_model():\n",
        "    x_in = Input(shape=(28, 28, 1))\n",
        "    x = Conv2D(filters=32, kernel_size=2, padding='same', activation='relu')(x_in)\n",
        "    x = MaxPooling2D(pool_size=2)(x)\n",
        "    x = Dropout(0.3)(x)\n",
        "\n",
        "    x = Conv2D(filters=64, kernel_size=2, padding='same', activation='relu')(x)\n",
        "    x = MaxPooling2D(pool_size=2)(x)\n",
        "    x = Dropout(0.3)(x)\n",
        "\n",
        "    x = Flatten()(x)\n",
        "    x = Dense(256, activation='relu')(x)\n",
        "    x = Dropout(0.5)(x)\n",
        "    x_out = Dense(10, activation='softmax')(x)\n",
        "\n",
        "    cnn = Model(inputs=x_in, outputs=x_out)\n",
        "    cnn.compile(loss='categorical_crossentropy', optimizer='adam', metrics=['accuracy'])\n",
        "\n",
        "    return cnn"
      ]
    },
    {
      "cell_type": "markdown",
      "metadata": {
        "id": "ocKaHHMUc0NZ"
      },
      "source": [
        "Procedemos a entrenar el modelo utilizando x_train y las etiquetas correspondientes y_train. Se especifica un batch_size de 32, 3 épocas de entrenamiento y se omite la salida de progreso durante el entrenamiento (verbose=0).\n",
        "\n",
        "Además, se guarda el modelo entrenado en un archivo llamado 'mnist_cnn.h5' en el formato de archivo HDF5 ('.h5'), lo que es muy beneficioso ya que este archivo puede ser utilizado más tarde para cargar el modelo y realizar predicciones sin necesidad de volver a entrenarlo."
      ]
    },
    {
      "cell_type": "code",
      "execution_count": 26,
      "metadata": {
        "colab": {
          "base_uri": "https://localhost:8080/"
        },
        "id": "UU0EBSqE5wWP",
        "outputId": "bde891b6-dbf1-4324-c59c-12daf3853b43"
      },
      "outputs": [
        {
          "name": "stderr",
          "output_type": "stream",
          "text": [
            "c:\\Users\\inese\\anaconda3\\envs\\NLP\\Lib\\site-packages\\keras\\src\\engine\\training.py:3079: UserWarning: You are saving your model as an HDF5 file via `model.save()`. This file format is considered legacy. We recommend using instead the native Keras format, e.g. `model.save('my_model.keras')`.\n",
            "  saving_api.save_model(\n"
          ]
        }
      ],
      "source": [
        "cnn = cnn_model()\n",
        "cnn.fit(x_train, y_train, batch_size=32, epochs=3, verbose=0)\n",
        "cnn.save('mnist_cnn.h5', save_format='h5')"
      ]
    },
    {
      "cell_type": "markdown",
      "metadata": {
        "id": "vSvgOAl06jkD"
      },
      "source": [
        "Evaluamos el modelo en el conjunto de prueba utilizando x_test y sus etiquetas correspondientes y_test. El resultado se almacena en la variable score."
      ]
    },
    {
      "cell_type": "code",
      "execution_count": 27,
      "metadata": {
        "colab": {
          "base_uri": "https://localhost:8080/"
        },
        "id": "op-fB7_15wT2",
        "outputId": "3751f867-bedd-4b0e-dd7b-c4d009f473a5"
      },
      "outputs": [
        {
          "name": "stderr",
          "output_type": "stream",
          "text": [
            "c:\\Users\\inese\\anaconda3\\envs\\NLP\\Lib\\site-packages\\keras\\src\\engine\\training_v1.py:2335: UserWarning: `Model.state_updates` will be removed in a future version. This property should not be used in TensorFlow 2.0, as `updates` are applied automatically.\n",
            "  updates = self.state_updates\n"
          ]
        },
        {
          "name": "stdout",
          "output_type": "stream",
          "text": [
            "Test accuracy:  0.9885\n"
          ]
        }
      ],
      "source": [
        "cnn = load_model('mnist_cnn.h5')\n",
        "score = cnn.evaluate(x_test, y_test, verbose=0)\n",
        "print('Test accuracy: ', score[1])"
      ]
    },
    {
      "cell_type": "markdown",
      "metadata": {
        "id": "lmAfWphUdVYM"
      },
      "source": [
        "Obtenemos una precisión del 98.85%, lo que significa que generalmente se obtienen muy buenos resultados."
      ]
    },
    {
      "cell_type": "markdown",
      "metadata": {
        "id": "CnT8WX1J6qzp"
      },
      "source": [
        "### Definir y entrenar el codificador automático\n",
        "\n",
        "Se define una nueva función para el **autoencoder** o codificador automático que contiene las siguientes partes diferenciadas:\n",
        "\n",
        "-**Encoder**: Tomamos imágenes de entrada de dimensiones (28x28x1) y consta de dos capas convolucionales seguidas de una capa de agrupación máxima(max-pooling) para extraer características y reducir la dimensionalidad.\n",
        "\n",
        "-**Decoder**: A través de la representación codificada por el encoder, reconstruye la forma original de la imagen. Inicia con capas convolucionales y luego utiliza la operación de upsampling (interpolación) para aumentar la resolución de la imagen.\n",
        "\n",
        "La función devolverá tres modelos: el autoencoder completo, el encoder y el decoder."
      ]
    },
    {
      "cell_type": "code",
      "execution_count": 28,
      "metadata": {
        "id": "YtBEXWTb5wOV"
      },
      "outputs": [],
      "source": [
        "def ae_model():\n",
        "    # encoder\n",
        "    x_in = Input(shape=(28, 28, 1))\n",
        "    x = Conv2D(16, (3, 3), activation='relu', padding='same')(x_in)\n",
        "    x = Conv2D(16, (3, 3), activation='relu', padding='same')(x)\n",
        "    x = MaxPooling2D((2, 2), padding='same')(x)\n",
        "    encoded = Conv2D(1, (3, 3), activation=None, padding='same')(x)\n",
        "    encoder = Model(x_in, encoded)\n",
        "\n",
        "    # decoder\n",
        "    dec_in = Input(shape=(14, 14, 1))\n",
        "    x = Conv2D(16, (3, 3), activation='relu', padding='same')(dec_in)\n",
        "    x = UpSampling2D((2, 2))(x)\n",
        "    x = Conv2D(16, (3, 3), activation='relu', padding='same')(x)\n",
        "    decoded = Conv2D(1, (3, 3), activation=None, padding='same')(x)\n",
        "    decoder = Model(dec_in, decoded)\n",
        "\n",
        "    # autoencoder = encoder + decoder\n",
        "    x_out = decoder(encoder(x_in))\n",
        "    autoencoder = Model(x_in, x_out)\n",
        "    autoencoder.compile(optimizer='adam', loss='mse')\n",
        "\n",
        "    return autoencoder, encoder, decoder"
      ]
    },
    {
      "cell_type": "markdown",
      "metadata": {
        "id": "1KxsJlfifE9X"
      },
      "source": [
        "Entrenamos el sutoencoder con los datos de x_train, especificando un tamaño de lote de 128, 4 épocas de entrenamiento y utilizando los datos de x_test como datos de validación.\n",
        "\n",
        "Guardamos tanto el modelo de autoencoder entrenado en un archivo llamado 'mnist_ae.h5' cmomo el modelo del codificador (enc) en un archivo llamado 'mnist_enc.h5'. Esto permitirá utilizar el codificador o encoder por separado si es necesario."
      ]
    },
    {
      "cell_type": "code",
      "execution_count": 29,
      "metadata": {
        "id": "DtJV8zpn5wKo"
      },
      "outputs": [],
      "source": [
        "ae, enc, dec = ae_model()\n",
        "ae.fit(x_train, x_train, batch_size=128, epochs=4, validation_data=(x_test, x_test), verbose=0)\n",
        "ae.save('mnist_ae.h5', save_format='h5')\n",
        "enc.save('mnist_enc.h5', save_format='h5')"
      ]
    },
    {
      "cell_type": "markdown",
      "metadata": {
        "id": "nB7vADut6vtf"
      },
      "source": [
        "### Comparar imágenes originales con imágenes decodificadas"
      ]
    },
    {
      "cell_type": "code",
      "execution_count": 31,
      "metadata": {
        "colab": {
          "base_uri": "https://localhost:8080/",
          "height": 325
        },
        "id": "7cf4WxxG5wF_",
        "outputId": "ab486da0-6661-4511-ed19-4926a45c9faa"
      },
      "outputs": [
        {
          "data": {
            "image/png": "[encoded data removed]",
            "text/plain": [
              "<Figure size 2000x400 with 10 Axes>"
            ]
          },
          "metadata": {},
          "output_type": "display_data"
        }
      ],
      "source": [
        "ae = load_model('mnist_ae.h5')\n",
        "enc = load_model('mnist_enc.h5', compile=False)\n",
        "\n",
        "decoded_imgs = ae.predict(x_test)\n",
        "n = 5\n",
        "plt.figure(figsize=(20, 4))\n",
        "for i in range(1, n+1):\n",
        "    # display original\n",
        "    ax = plt.subplot(2, n, i)\n",
        "    plt.imshow(x_test[i].reshape(28, 28), cmap='gray')\n",
        "    ax.get_xaxis().set_visible(False)\n",
        "    ax.get_yaxis().set_visible(False)\n",
        "    # display reconstruction\n",
        "    ax = plt.subplot(2, n, i + n)\n",
        "    plt.imshow(decoded_imgs[i].reshape(28, 28), cmap='gray')\n",
        "    ax.get_xaxis().set_visible(False)\n",
        "    ax.get_yaxis().set_visible(False)"
      ]
    },
    {
      "cell_type": "markdown",
      "metadata": {
        "id": "ksypi8nc6ykl"
      },
      "source": [
        "### Generar contrafactual guiado por el prototipo de clase más cercano\n",
        "\n",
        "Procedemos a elegir una imágen concreta dentro de nuestro conjunto de datos de prueba, reformateandola para que tenga la forma de: (1,28,28,1). Además, la visualizamos para poder tener en cuenta las siguientes opearciones.\n",
        "\n",
        "\n",
        "#### Instancia original:"
      ]
    },
    {
      "cell_type": "code",
      "execution_count": 33,
      "metadata": {
        "colab": {
          "base_uri": "https://localhost:8080/",
          "height": 430
        },
        "id": "Dbz6eG_r5v_w",
        "outputId": "0cc6a481-5e62-4344-d0aa-2c624beb2b61"
      },
      "outputs": [
        {
          "data": {
            "image/png": "[encoded data removed]",
            "text/plain": [
              "<Figure size 640x480 with 1 Axes>"
            ]
          },
          "metadata": {},
          "output_type": "display_data"
        }
      ],
      "source": [
        "X = x_test[0].reshape((1,) + x_test[0].shape)\n",
        "plt.imshow(X.reshape(28, 28), cmap='gray');"
      ]
    },
    {
      "cell_type": "markdown",
      "metadata": {
        "id": "BnUNSiCBhi26"
      },
      "source": [
        "Observamos que se trata, claramente, del dígito 7."
      ]
    },
    {
      "cell_type": "markdown",
      "metadata": {
        "id": "ig2mn6wQ623L"
      },
      "source": [
        "#### Parámetros contrafactuales:\n",
        "\n",
        "A partir de las siguientes definiciones de los elementos, se pretende controlar la creación y la búsqueda de un contrafactual que sea cercano y relevante de un prototipo en específico, mientras se mantiene coherencia con los datos originales y las restricciones del problema.\n",
        "\n",
        "Explicamos paso a paso cada una de las nuevas definiciones:\n",
        "\n",
        "· `shape`: representa una dimensión adicional que se agrega a los datos originales para crear un prototipo de contrafactual.\n",
        "\n",
        "· `gamma` y `theta`: son valores de ajuste específicos que controlan la magnitud y la dirección del cambio deseado en el contrafactual.\n",
        "\n",
        "- `c_init`, `c_steps` y `max_iterations`: son el punto de partida inicial, el número de pasos y el límite máximo de iteraciones de la búsqueda, respectivamente.\n",
        "\n",
        "- `feature_range`: rango permitido de valores para las características modificadas en el contrafactual."
      ]
    },
    {
      "cell_type": "code",
      "execution_count": 34,
      "metadata": {
        "id": "r63B3r7u5v25"
      },
      "outputs": [],
      "source": [
        "shape = (1,) + x_train.shape[1:]\n",
        "gamma = 100.\n",
        "theta = 100.\n",
        "c_init = 1.\n",
        "c_steps = 2\n",
        "max_iterations = 1000\n",
        "feature_range = (x_train.min(),x_train.max())"
      ]
    },
    {
      "cell_type": "markdown",
      "metadata": {
        "id": "2XtXANb164QQ"
      },
      "source": [
        "Ejecute contrafactual:\n",
        "\n",
        "Proceddemos a inicializar un objeto de ***CounterfactualProto***, que es un explicador de contrafactuales guiado por prototipo. Se pasan como parámetros el `modelo de clasificación cnn`, la forma de los datos `shape`, así como otros parámetros como `gamma`, `theta`, `ae_model`, `enc_model`, `max_iterations`, `feature_range`, `c_init` y `c_steps`. Además, se ajusta el explicador a x_train para encontrar prototipos de clase y se genera una explicación para la instancia X dada, lo que implica generar un contrafactual que explique la predicción del modelo para X en términos de cambios en las características."
      ]
    },
    {
      "cell_type": "code",
      "execution_count": 35,
      "metadata": {
        "colab": {
          "base_uri": "https://localhost:8080/"
        },
        "id": "UZxuq5xu7zQU",
        "outputId": "a43f741a-c08d-43db-f0e8-cdced3b07bfc"
      },
      "outputs": [
        {
          "name": "stdout",
          "output_type": "stream",
          "text": [
            "Time to find prototypes each class: 11.514 sec\n",
            "Explanation took 3.733 sec\n"
          ]
        }
      ],
      "source": [
        "cf = CounterfactualProto(cnn, shape, gamma=gamma, theta=theta,\n",
        "                         ae_model=ae, enc_model=enc, max_iterations=max_iterations,\n",
        "                         feature_range=feature_range, c_init=c_init, c_steps=c_steps)\n",
        "start_time = time()\n",
        "cf.fit(x_train)  \n",
        "print('Time to find prototypes each class: {:.3f} sec'.format(time() - start_time))\n",
        "start_time = time()\n",
        "explanation = cf.explain(X)\n",
        "print('Explanation took {:.3f} sec'.format(time() - start_time))"
      ]
    },
    {
      "cell_type": "markdown",
      "metadata": {
        "id": "s166lM4972Cz"
      },
      "source": [
        "Resultados:"
      ]
    },
    {
      "cell_type": "code",
      "execution_count": 36,
      "metadata": {
        "colab": {
          "base_uri": "https://localhost:8080/",
          "height": 465
        },
        "id": "o6Cf1SWt7z5F",
        "outputId": "a8118423-fa43-4625-b59f-ecb640e6a357"
      },
      "outputs": [
        {
          "name": "stdout",
          "output_type": "stream",
          "text": [
            "Counterfactual prediction: 9\n",
            "Closest prototype class: 9\n"
          ]
        },
        {
          "data": {
            "image/png": "[encoded data removed]",
            "text/plain": [
              "<Figure size 640x480 with 1 Axes>"
            ]
          },
          "metadata": {},
          "output_type": "display_data"
        }
      ],
      "source": [
        "print('Counterfactual prediction: {}'.format(explanation.cf['class']))\n",
        "print(f'Closest prototype class: {explanation.id_proto}')\n",
        "plt.imshow(explanation.cf['X'].reshape(28, 28), cmap='gray');"
      ]
    },
    {
      "cell_type": "markdown",
      "metadata": {
        "id": "ONg_qnfc75Ji"
      },
      "source": [
        "El contrafactual que parte de un 7 avanza hacia su clase prototipo más cercana: un 9. La evolución del contrafactual durante la primera iteración se puede ver a continuación:"
      ]
    },
    {
      "cell_type": "code",
      "execution_count": 37,
      "metadata": {
        "colab": {
          "base_uri": "https://localhost:8080/",
          "height": 196
        },
        "id": "Qsp_wEwI7z2l",
        "outputId": "494a422b-575f-4c1f-884d-a5f2c70100d6"
      },
      "outputs": [
        {
          "name": "stdout",
          "output_type": "stream",
          "text": [
            "iteration c 0\n"
          ]
        },
        {
          "name": "stderr",
          "output_type": "stream",
          "text": [
            "C:\\Users\\inese\\AppData\\Local\\Temp\\ipykernel_17832\\3470368917.py:3: DeprecationWarning: The Explanation object is not a dictionary anymore and accessing elements should be done via attribute access. Accessing via item will stop working in a future version.\n",
            "  n = len(explanation['all'][iter_cf])\n",
            "C:\\Users\\inese\\AppData\\Local\\Temp\\ipykernel_17832\\3470368917.py:7: DeprecationWarning: The Explanation object is not a dictionary anymore and accessing elements should be done via attribute access. Accessing via item will stop working in a future version.\n",
            "  plt.imshow(explanation['all'][iter_cf][i].reshape(28, 28), cmap='gray')\n"
          ]
        },
        {
          "data": {
            "image/png": "[encoded data removed]",
            "text/plain": [
              "<Figure size 2000x400 with 10 Axes>"
            ]
          },
          "metadata": {},
          "output_type": "display_data"
        }
      ],
      "source": [
        "iter_cf = 0\n",
        "print(f'iteration c {iter_cf}')\n",
        "n = len(explanation['all'][iter_cf])\n",
        "plt.figure(figsize=(20, 4))\n",
        "for i in range(n):\n",
        "    ax = plt.subplot(1, n+1, i+1)\n",
        "    plt.imshow(explanation['all'][iter_cf][i].reshape(28, 28), cmap='gray')\n",
        "    ax.get_xaxis().set_visible(False)\n",
        "    ax.get_yaxis().set_visible(False)\n",
        "plt.show()"
      ]
    },
    {
      "cell_type": "markdown",
      "metadata": {
        "id": "bWTsogKQ77o5"
      },
      "source": [
        "Por lo general, las primeras iteraciones ya dirigen el 7 hacia un 9, mientras que las iteraciones posteriores hacen que el contrafactual sea más escaso."
      ]
    },
    {
      "cell_type": "markdown",
      "metadata": {
        "id": "9cWE5yR_8Ie-"
      },
      "source": [
        "### Prototipos definidos por las k-instancias codificadas más cercanas\n",
        "\n",
        "En el ejemplo anterior, los prototipos de clase se definen mediante la codificación promedio de todas las instancias que pertenecen a la clase específica. Sin embargo, otra estrategia viable es **seleccionar únicamente las instancias codificadas más cercanas de una clase a la instancia codificada** que se va a explicar, y luego usar el promedio sobre esas codificaciones como prototipo.\n",
        "\n",
        "\n",
        "Volvemos a proceder a inicializar un objeto de ***CounterfactualProto*** al que se le pasan como parámetros el `modelo de clasificación cnn`, la forma de los datos `shape`, así como otros parámetros como `gamma`, `theta`, `ae_model`, `enc_model`, `max_iterations`, `feature_range`, `c_init` y `c_steps`. Pero en este caso vamos a obtener 2 explicaciones particulares:\n",
        "\n",
        "-Utilizando el promedio de las codificaciones de **la clase más cercana**.\n",
        "\n",
        "-Utilizando el promedio de las codificaciones de **las 20 clase más cercanas**."
      ]
    },
    {
      "cell_type": "code",
      "execution_count": 38,
      "metadata": {
        "id": "us5lzRD77zzD"
      },
      "outputs": [],
      "source": [
        "cf = CounterfactualProto(cnn, shape, gamma=gamma, theta=theta,\n",
        "                         ae_model=ae, enc_model=enc, max_iterations=max_iterations,\n",
        "                         feature_range=feature_range, c_init=c_init, c_steps=c_steps)\n",
        "cf.fit(x_train)\n",
        "explanation_k1 = cf.explain(X, k=1, k_type='mean')\n",
        "explanation_k20 = cf.explain(X, k=20, k_type='mean')"
      ]
    },
    {
      "cell_type": "markdown",
      "metadata": {
        "id": "_eGBfLKa8Mni"
      },
      "source": [
        "Observamos los resultados para\n",
        "k=1, el caso del promedio de las codificaciones de **la clase más cercana**:"
      ]
    },
    {
      "cell_type": "code",
      "execution_count": 39,
      "metadata": {
        "colab": {
          "base_uri": "https://localhost:8080/",
          "height": 465
        },
        "id": "alwjEkLU7zur",
        "outputId": "af04ca37-48c0-4bc6-b725-2e509da4ab93"
      },
      "outputs": [
        {
          "name": "stdout",
          "output_type": "stream",
          "text": [
            "Counterfactual prediction: 9\n",
            "Closest prototype class: 9\n"
          ]
        },
        {
          "data": {
            "image/png": "[encoded data removed]",
            "text/plain": [
              "<Figure size 640x480 with 1 Axes>"
            ]
          },
          "metadata": {},
          "output_type": "display_data"
        }
      ],
      "source": [
        "print('Counterfactual prediction: {}'.format(explanation_k1.cf['class']))\n",
        "print(f'Closest prototype class: {explanation.id_proto}')\n",
        "plt.imshow(explanation_k1.cf['X'].reshape(28, 28), cmap='gray');"
      ]
    },
    {
      "cell_type": "markdown",
      "metadata": {
        "id": "_Grv4v2E8Q3c"
      },
      "source": [
        "Observamos los resultados para\n",
        "k=20, el caso del promedio de las codificaciones de **las 20 clases más cercanas**:"
      ]
    },
    {
      "cell_type": "code",
      "execution_count": 40,
      "metadata": {
        "colab": {
          "base_uri": "https://localhost:8080/",
          "height": 465
        },
        "id": "s9_gaoYm7zp-",
        "outputId": "5a556e00-c010-4789-ecfb-983acaed568d"
      },
      "outputs": [
        {
          "name": "stdout",
          "output_type": "stream",
          "text": [
            "Counterfactual prediction: 9\n",
            "Closest prototype class: 9\n"
          ]
        },
        {
          "data": {
            "image/png": "[encoded data removed]",
            "text/plain": [
              "<Figure size 640x480 with 1 Axes>"
            ]
          },
          "metadata": {},
          "output_type": "display_data"
        }
      ],
      "source": [
        "print('Counterfactual prediction: {}'.format(explanation_k20.cf['class']))\n",
        "print(f'Closest prototype class: {explanation.id_proto}')\n",
        "plt.imshow(explanation_k20.cf['X'].reshape(28, 28), cmap='gray');"
      ]
    },
    {
      "cell_type": "markdown",
      "metadata": {
        "id": "3G0IW1DC8TTf"
      },
      "source": [
        "Un valor menor de k suele conducir a contrafactuales que se parecen más al caso original y menos a un caso promedio de la clase contrafáctica."
      ]
    },
    {
      "cell_type": "markdown",
      "metadata": {
        "id": "1mXgVYbA8U_N"
      },
      "source": [
        "### Eliminar el término de pérdida del codificador automático $L_{AE}$\n",
        "\n",
        "En el ejemplo anterior, utilizamos un término de pérdida del codificador automático para penalizar un contrafactual que queda fuera de la distribución de datos de entrenamiento, así como un término de pérdida del codificador para guiar el contrafactual a la clase de prototipo más cercana. En el siguiente ejemplo, nos deshacemos del término de pérdida del codificador automático para acelerar la búsqueda contrafactual y seguir generando contrafactuales decentes:"
      ]
    },
    {
      "cell_type": "code",
      "execution_count": 41,
      "metadata": {
        "colab": {
          "base_uri": "https://localhost:8080/"
        },
        "id": "c3YEykbj7zi5",
        "outputId": "b8a9044d-3fc0-4126-b223-624562a174e9"
      },
      "outputs": [
        {
          "name": "stdout",
          "output_type": "stream",
          "text": [
            "Explanation took 3.217 sec\n"
          ]
        }
      ],
      "source": [
        "cf = CounterfactualProto(cnn, shape, gamma=gamma, theta=theta,\n",
        "                         enc_model=enc, max_iterations=max_iterations,\n",
        "                         feature_range=feature_range, c_init=c_init, c_steps=c_steps)\n",
        "cf.fit(x_train)\n",
        "start_time = time()\n",
        "explanation = cf.explain(X, k=1)\n",
        "print('Explanation took {:.3f} sec'.format(time() - start_time))"
      ]
    },
    {
      "cell_type": "markdown",
      "metadata": {
        "id": "km5VQmJB8bTp"
      },
      "source": [
        "Resultados:"
      ]
    },
    {
      "cell_type": "code",
      "execution_count": 42,
      "metadata": {
        "colab": {
          "base_uri": "https://localhost:8080/",
          "height": 465
        },
        "id": "CeEBwtwc8aUD",
        "outputId": "1b5e6047-81be-40a9-a43a-2182f9da549e"
      },
      "outputs": [
        {
          "name": "stdout",
          "output_type": "stream",
          "text": [
            "Counterfactual prediction: 9\n",
            "Closest prototype class: 9\n"
          ]
        },
        {
          "data": {
            "image/png": "[encoded data removed]",
            "text/plain": [
              "<Figure size 640x480 with 1 Axes>"
            ]
          },
          "metadata": {},
          "output_type": "display_data"
        }
      ],
      "source": [
        "print('Counterfactual prediction: {}'.format(explanation.cf['class']))\n",
        "print(f'Closest prototype class: {explanation.id_proto}')\n",
        "plt.imshow(explanation.cf['X'].reshape(28, 28), cmap='gray');"
      ]
    },
    {
      "cell_type": "markdown",
      "metadata": {
        "id": "fxHlMqMX8dt8"
      },
      "source": [
        "### Especificar clases de prototipo\n",
        "\n",
        "\n",
        "Para predicciones de clases múltiples, podría interesarnos generar contrafácticos para ciertas clases y evitar otras. El siguiente ejemplo ilustra cómo hacer esto:"
      ]
    },
    {
      "cell_type": "code",
      "execution_count": 43,
      "metadata": {
        "colab": {
          "base_uri": "https://localhost:8080/",
          "height": 430
        },
        "id": "z6O43CpE8aRv",
        "outputId": "1a2c2991-6485-412a-8d1f-5aa754600be1"
      },
      "outputs": [
        {
          "data": {
            "image/png": "[encoded data removed]",
            "text/plain": [
              "<Figure size 640x480 with 1 Axes>"
            ]
          },
          "metadata": {},
          "output_type": "display_data"
        }
      ],
      "source": [
        "X = x_test[12].reshape((1,) + x_test[1].shape)\n",
        "plt.imshow(X.reshape(28, 28), cmap='gray');"
      ]
    },
    {
      "cell_type": "code",
      "execution_count": 44,
      "metadata": {
        "id": "VncIerN88aPW"
      },
      "outputs": [],
      "source": [
        "cf = CounterfactualProto(cnn, shape, gamma=gamma, theta=theta,\n",
        "                         ae_model=ae, enc_model=enc, max_iterations=max_iterations,\n",
        "                         feature_range=feature_range, c_init=c_init, c_steps=c_steps)\n",
        "cf.fit(x_train)\n",
        "explanation_1 = cf.explain(X, k=5, k_type='mean')\n",
        "proto_1 = explanation_1.id_proto\n",
        "explanation_2 = cf.explain(X, k=5, k_type='mean', target_class=[7])\n",
        "proto_2 = explanation_2.id_proto"
      ]
    },
    {
      "cell_type": "markdown",
      "metadata": {
        "id": "VfwtXksF8jl_"
      },
      "source": [
        "La clase más cercana al 9 es 4. Esto es evidente al observar el primer contrafactual a continuación. Para el segundo contrafactual, especificamos que la clase prototipo utilizada en la búsqueda debería ser un 7(se fuerza). Como resultado, se genera un contrafactual 7 en lugar de un 4."
      ]
    },
    {
      "cell_type": "code",
      "execution_count": 45,
      "metadata": {
        "colab": {
          "base_uri": "https://localhost:8080/",
          "height": 465
        },
        "id": "QwD9Pnsp8aMq",
        "outputId": "2f37cb28-10e7-458c-e366-c05d6a1dc415"
      },
      "outputs": [
        {
          "name": "stdout",
          "output_type": "stream",
          "text": [
            "Counterfactual prediction: 4\n",
            "Closest prototype class: 4\n"
          ]
        },
        {
          "data": {
            "image/png": "[encoded data removed]",
            "text/plain": [
              "<Figure size 640x480 with 1 Axes>"
            ]
          },
          "metadata": {},
          "output_type": "display_data"
        }
      ],
      "source": [
        "print('Counterfactual prediction: {}'.format(explanation_1.cf['class']))\n",
        "print(f'Closest prototype class: {proto_1}')\n",
        "plt.imshow(explanation_1.cf['X'].reshape(28, 28), cmap='gray');"
      ]
    },
    {
      "cell_type": "code",
      "execution_count": 46,
      "metadata": {
        "colab": {
          "base_uri": "https://localhost:8080/",
          "height": 465
        },
        "id": "uFJw4IXP8aJo",
        "outputId": "b7f2024c-d582-4515-fe31-7f2e57a1f463"
      },
      "outputs": [
        {
          "name": "stdout",
          "output_type": "stream",
          "text": [
            "Counterfactual prediction: 7\n",
            "Closest prototype class: 7\n"
          ]
        },
        {
          "data": {
            "image/png": "[encoded data removed]",
            "text/plain": [
              "<Figure size 640x480 with 1 Axes>"
            ]
          },
          "metadata": {},
          "output_type": "display_data"
        }
      ],
      "source": [
        "print('Counterfactual prediction: {}'.format(explanation_2.cf['class']))\n",
        "print(f'Closest prototype class: {proto_2}')\n",
        "plt.imshow(explanation_2.cf['X'].reshape(28, 28), cmap='gray');"
      ]
    },
    {
      "cell_type": "markdown",
      "metadata": {
        "id": "Y-2EjFDn8nXd"
      },
      "source": [
        "### Acelerar la búsqueda contrafactual eliminando el término de pérdida de la función de predicción\n",
        "\n",
        "\n",
        "También podemos eliminar el término de pérdida de predicción y aún así obtener un contrafactual interpretable. Esto es especialmente relevante para los modelos de caja totalmente negra. Cuando proporcionamos al método de búsqueda contrafactual un modelo Keras o TensorFlow, se incorpora al gráfico de TensorFlow y se evalúa mediante diferenciación automática. Sin embargo, si solo tenemos acceso a la función de predicción del modelo, las actualizaciones de gradiente son numéricas y normalmente requieren una gran cantidad de llamadas de predicción debido al término de pérdida de predicción.\n",
        "\n",
        "Estas llamadas de predicción pueden ralentizar significativamente la búsqueda y convertirse en un cuello de botella. Podemos representar el gradiente del término de pérdida de la siguiente manera:\n",
        "\n",
        "$$\n",
        "\\frac{\\partial L_{pred}}{\\partial x} = \\frac{\\partial L_{pred}}{\\partial p} \\cdot \\frac{\\partial p}{\\partial x}\n",
        "$$\n",
        "\n",
        "\n",
        "dónde $L_{pred}$\n",
        "es el término de pérdida de predicción,\n",
        "la función de predicción y x\n",
        "las características de entrada para optimizar. Para una imagen MNIST de 28 por 28, el $\\frac{\\partial p}{\\partial x}$.\n",
        "\n",
        "\n",
        "El término por sí solo requeriría una llamada de predicción con un tamaño de lote de 28x28x2 = 1568. Sin embargo, al usar los prototipos para guiar la búsqueda, podemos eliminar el término de pérdida de predicción y solo hacer una única predicción al final de cada actualización de gradiente para verificar si la clase predicha en el contrafactual propuesto es diferente de la clase original. Tampoco necesitamos necesariamente un codificador automático Keras o TensorFlow y podemos usar árboles kd para encontrar los prototipos de clase más cercanos.\n",
        "\n",
        "\n",
        "\n",
        "El primer ejemplo siguiente elimina $L_{pred}$\n",
        "de la función de pérdida para evitar el cuello de botella. Ilustra las drásticas mejoras de velocidad con respecto a la alternativa de caja negra con evaluación de gradiente numérico y al mismo tiempo produce casos contrafactuales interpretables."
      ]
    },
    {
      "cell_type": "code",
      "execution_count": 47,
      "metadata": {
        "colab": {
          "base_uri": "https://localhost:8080/",
          "height": 430
        },
        "id": "TJZyG0Am8aE5",
        "outputId": "05760d58-e9f1-4f76-fbe3-844575abf164"
      },
      "outputs": [
        {
          "data": {
            "image/png": "[encoded data removed]",
            "text/plain": [
              "<Figure size 640x480 with 1 Axes>"
            ]
          },
          "metadata": {},
          "output_type": "display_data"
        }
      ],
      "source": [
        "plt.gray()\n",
        "X = x_test[23].reshape(1, 28, 28, 1)\n",
        "plt.imshow(X.reshape(28, 28));"
      ]
    },
    {
      "cell_type": "code",
      "execution_count": 48,
      "metadata": {
        "id": "xrZUQ7158Z_H"
      },
      "outputs": [],
      "source": [
        "c_init = 0.  # weight on prediction loss term set to 0\n",
        "c_steps = 1  # no need to find optimal values for c"
      ]
    },
    {
      "cell_type": "code",
      "execution_count": 49,
      "metadata": {
        "colab": {
          "base_uri": "https://localhost:8080/"
        },
        "id": "xZiUbpem9csW",
        "outputId": "a96c7ddd-7b5f-4301-d774-9fd314fda444"
      },
      "outputs": [
        {
          "name": "stdout",
          "output_type": "stream",
          "text": [
            "Explanation took 3.145 sec\n"
          ]
        }
      ],
      "source": [
        "# define a black-box model\n",
        "predict_fn = lambda x: cnn.predict(x)\n",
        "\n",
        "# initialize explainer, fit and generate counterfactuals\n",
        "cf = CounterfactualProto(predict_fn, shape, gamma=gamma, theta=theta,\n",
        "                         ae_model=ae, enc_model=enc, max_iterations=max_iterations,\n",
        "                         feature_range=feature_range, c_init=c_init, c_steps=c_steps)\n",
        "cf.fit(x_train)\n",
        "start_time = time()\n",
        "explanation = cf.explain(X, k=1)\n",
        "print('Explanation took {:.3f} sec'.format(time() - start_time))"
      ]
    },
    {
      "cell_type": "code",
      "execution_count": 50,
      "metadata": {
        "colab": {
          "base_uri": "https://localhost:8080/",
          "height": 465
        },
        "id": "S1GWPJmq9cp6",
        "outputId": "ec748c28-1a97-4720-c17a-5dcde30d43e9"
      },
      "outputs": [
        {
          "name": "stdout",
          "output_type": "stream",
          "text": [
            "Counterfactual prediction: 6\n",
            "Closest prototype class: 6\n"
          ]
        },
        {
          "data": {
            "image/png": "[encoded data removed]",
            "text/plain": [
              "<Figure size 640x480 with 1 Axes>"
            ]
          },
          "metadata": {},
          "output_type": "display_data"
        }
      ],
      "source": [
        "print('Counterfactual prediction: {}'.format(explanation.cf['class']))\n",
        "print(f'Closest prototype class: {explanation.id_proto}')\n",
        "plt.imshow(explanation.cf['X'].reshape(28, 28));"
      ]
    },
    {
      "cell_type": "markdown",
      "metadata": {
        "id": "7aIUQtZl9g23"
      },
      "source": [
        "Háganos saber agregar el $L_{pred}$\n",
        "término de pérdida nuevamente en la función objetivo y observe cuánto tiempo lleva generar un contrafactual de caja negra:"
      ]
    },
    {
      "cell_type": "code",
      "execution_count": 51,
      "metadata": {
        "id": "NU9iHAje9cnU"
      },
      "outputs": [],
      "source": [
        "c_init = 1.\n",
        "c_steps = 2"
      ]
    },
    {
      "cell_type": "code",
      "execution_count": 52,
      "metadata": {
        "colab": {
          "base_uri": "https://localhost:8080/"
        },
        "id": "KkDA3xMu9cit",
        "outputId": "07169fbd-96e3-4a4c-d78f-8a7250555976"
      },
      "outputs": [
        {
          "name": "stdout",
          "output_type": "stream",
          "text": [
            "Explanation took 597.014 sec\n"
          ]
        }
      ],
      "source": [
        "# define a black-box model\n",
        "predict_fn = lambda x: cnn.predict(x)\n",
        "\n",
        "cf = CounterfactualProto(predict_fn, shape, gamma=gamma, theta=theta,\n",
        "                         ae_model=ae, enc_model=enc, max_iterations=max_iterations,\n",
        "                         feature_range=feature_range, c_init=c_init, c_steps=c_steps)\n",
        "cf.fit(x_train)\n",
        "start_time = time()\n",
        "explanation = cf.explain(X, k=1)\n",
        "print('Explanation took {:.3f} sec'.format(time() - start_time))"
      ]
    },
    {
      "cell_type": "code",
      "execution_count": 53,
      "metadata": {
        "colab": {
          "base_uri": "https://localhost:8080/",
          "height": 465
        },
        "id": "uEUwNVZb9cdX",
        "outputId": "217b1ff9-5ce5-4b85-9f2a-d703f96091cc"
      },
      "outputs": [
        {
          "name": "stdout",
          "output_type": "stream",
          "text": [
            "Counterfactual prediction: 6\n",
            "Closest prototype class: 6\n"
          ]
        },
        {
          "data": {
            "image/png": "[encoded data removed]",
            "text/plain": [
              "<Figure size 640x480 with 1 Axes>"
            ]
          },
          "metadata": {},
          "output_type": "display_data"
        }
      ],
      "source": [
        "print('Counterfactual prediction: {}'.format(explanation.cf['class']))\n",
        "print(f'Closest prototype class: {explanation.id_proto}')\n",
        "plt.imshow(explanation.cf['X'].reshape(28, 28));"
      ]
    },
    {
      "cell_type": "markdown",
      "metadata": {
        "id": "704HxtBXs-gq"
      },
      "source": [
        "## Pruebas propias sobre el mismo dataset\n",
        "\n",
        "Consideraremos otro dígito para el análisis. Concretamente hemos elegido un dígito que representa el número 4, por lo que su etiqueta será '4'. No ostante, tal y como vamos a observar, este dígito puede llegar a plantear confusión con otros de los dígitos de clasificación."
      ]
    },
    {
      "cell_type": "markdown",
      "metadata": {},
      "source": [
        "Procedemos a la elección y visualización del dígito original elegido dentro del conjunto de prueba."
      ]
    },
    {
      "cell_type": "code",
      "execution_count": 54,
      "metadata": {
        "colab": {
          "base_uri": "https://localhost:8080/",
          "height": 430
        },
        "id": "U2YefwA7tPGy",
        "outputId": "625600d4-edaa-4114-ddf5-9f441f65d3c5"
      },
      "outputs": [
        {
          "data": {
            "image/png": "[encoded data removed]",
            "text/plain": [
              "<Figure size 640x480 with 1 Axes>"
            ]
          },
          "metadata": {},
          "output_type": "display_data"
        }
      ],
      "source": [
        "X_p = x_test[6].reshape((1,) + x_test[7].shape)\n",
        "plt.imshow(X_p.reshape(28, 28));"
      ]
    },
    {
      "cell_type": "markdown",
      "metadata": {
        "id": "v5taPLasuGgm"
      },
      "source": [
        "Vamos a adentrarnos un poco más en las descripciones de las diferentes variables que hemos observado anteriormente:\n",
        "\n",
        "$\\gamma$ (`gamma`): controla la importancia de la penalización en la **distancia** entre el contrafactual y la instancia original. Un valor más alto puede hacer que el algoritmo priorice la minimización de la distancia, lo que podría resultar en contrafactuales que se parecen más a la instancia original. Por otro lado, un valor más bajo puede permitir que el algoritmo se desvíe más de la instancia original en busca de un contrafactual que satisfaga las restricciones de un problema particular.\n",
        "\n",
        "\n",
        "$\\theta$ (`theta`): controla la importancia de la penalización en la **desviación de las características** del contrafactual respecto a las características del prototipo de clase. Un valor más alto puede hacer que el algoritmo priorice la cercanía del contrafactual al prototipo de clase, lo que podría resultar en contrafactuales que se parecen más al promedio de la clase. Por otro lado, un valor más bajo puede permitir que el algoritmo se desvíe más de las características de la clase en busca de un contrafactual que satisfaga las restricciones del problema.\n",
        "\n",
        "\n",
        "Punto de partida inicial (`c_init`): inicio para la búsqueda del contrafactual. Un valor más bajo, como 1, podría iniciar la búsqueda más cerca de la instancia original, lo que podría resultar en contrafactuales que se parecen más a la instancia original. Por otro lado, un valor más alto podría iniciar la búsqueda más lejos de la instancia original, lo que podría permitir contrafactuales que se desvíen más de la instancia original.\n",
        "\n",
        "\n",
        "Cantidad de pasos (`c_steps)`: pasos o iteraciones en la búsqueda del contrafactual. Un valor más alto, como 3, podría permitir un mayor número de pasos en la búsqueda, lo que podría permitir una exploración más exhaustiva del espacio de características en busca de un contrafactual satisfactorio. Por otro lado, un valor más bajo podría limitar la cantidad de pasos en la búsqueda, lo que podría resultar en una exploración menos exhaustiva del espacio de características.\n",
        "\n"
      ]
    },
    {
      "cell_type": "markdown",
      "metadata": {
        "id": "7JWBPJZXw18d"
      },
      "source": [
        "Consideraremos una variación considerable de los parámetros `gamma` y `theta`(concretamente de 100 a 10)."
      ]
    },
    {
      "cell_type": "markdown",
      "metadata": {},
      "source": [
        "Buscaremos las explicaciones contrafactuales de la siguiente forma:\n",
        "\n",
        "-Utilizando k=1 y el promedio de las codificaciones de **la clase más cercana**.\n",
        "\n",
        "-Utilizando k=20 y el promedio de las codificaciones de **las 20 clase más cercanas**."
      ]
    },
    {
      "cell_type": "code",
      "execution_count": 55,
      "metadata": {
        "colab": {
          "base_uri": "https://localhost:8080/"
        },
        "id": "Hr_gmjW3tvqw",
        "outputId": "34b6af6c-c721-462d-f792-3b1ecab7defd"
      },
      "outputs": [
        {
          "name": "stderr",
          "output_type": "stream",
          "text": [
            "No counterfactual found!\n",
            "No counterfactual found!\n"
          ]
        }
      ],
      "source": [
        "gamma=10\n",
        "theta=10\n",
        "\n",
        "cf = CounterfactualProto(cnn, shape, gamma=gamma, theta=theta,\n",
        "                         ae_model=ae, enc_model=enc, max_iterations=max_iterations,\n",
        "                         feature_range=feature_range, c_init=c_init, c_steps=c_steps)\n",
        "cf.fit(x_train)\n",
        "explanation_k1 = cf.explain(X, k=1, k_type='mean')\n",
        "explanation_k20 = cf.explain(X, k=20, k_type='mean')"
      ]
    },
    {
      "cell_type": "markdown",
      "metadata": {},
      "source": [
        "Considerando `gamma`=10 y `theta`=10, no conseguimos ningún contrafactual, parece ser que el algoritmo se desvincula de cualquier posible contrafactual."
      ]
    },
    {
      "cell_type": "markdown",
      "metadata": {
        "id": "9YfLhrqTkUBC"
      },
      "source": [
        "Redefinimos unas variables concretas que sean compatibles con la búsqueda obtenida y realizamos el mismo proceso:"
      ]
    },
    {
      "cell_type": "code",
      "execution_count": 56,
      "metadata": {
        "id": "i8Lrqz1R3H1u"
      },
      "outputs": [],
      "source": [
        "shape = (1,) + x_train.shape[1:]\n",
        "gamma = 100.\n",
        "theta = 100.\n",
        "c_init = 2.\n",
        "c_steps = 3\n",
        "max_iterations = 1000\n",
        "feature_range = (x_train.min(),x_train.max())"
      ]
    },
    {
      "cell_type": "code",
      "execution_count": 57,
      "metadata": {
        "id": "SRcUHnQl2ggI"
      },
      "outputs": [],
      "source": [
        "cf = CounterfactualProto(cnn, shape, gamma=gamma, theta=theta,\n",
        "                         ae_model=ae, enc_model=enc, max_iterations=max_iterations,\n",
        "                         feature_range=feature_range, c_init=c_init, c_steps=c_steps)\n",
        "cf.fit(x_train)\n",
        "explanation_k1 = cf.explain(X_p, k=1, k_type='mean')\n",
        "explanation_k20 = cf.explain(X_p, k=20, k_type='mean')"
      ]
    },
    {
      "cell_type": "code",
      "execution_count": 58,
      "metadata": {
        "colab": {
          "base_uri": "https://localhost:8080/",
          "height": 465
        },
        "id": "K34IuVKo1xcK",
        "outputId": "16b15b96-ce4d-46f1-d9bc-e313f96a53f2"
      },
      "outputs": [
        {
          "name": "stdout",
          "output_type": "stream",
          "text": [
            "Counterfactual prediction: 9\n",
            "Closest prototype class: 6\n"
          ]
        },
        {
          "data": {
            "image/png": "[encoded data removed]",
            "text/plain": [
              "<Figure size 640x480 with 1 Axes>"
            ]
          },
          "metadata": {},
          "output_type": "display_data"
        }
      ],
      "source": [
        "print('Counterfactual prediction: {}'.format(explanation_k1.cf['class']))\n",
        "print(f'Closest prototype class: {explanation.id_proto}')\n",
        "plt.imshow(explanation_k1.cf['X'].reshape(28, 28));"
      ]
    },
    {
      "cell_type": "markdown",
      "metadata": {},
      "source": [
        "\n",
        "\n",
        "Obtenemos que la predicción contrafactual de 9 y el prototipo de clase más cercano de 6 sugieren que el modelo ha respondido de manera coherente a los cambios introducidos en el dígito original. Lo que indica que, después de la transformación, el dígito se asemeja más a un 9 en términos de cómo el modelo lo interpreta y clasifica.\n",
        "\n",
        "La proximidad del prototipo de clase más cercano a 6 puede indicar cómo las transformaciones aplicadas al dígito original lo han movido en el espacio de características, acercándolo a la región donde se encuentran los ejemplos representativos de la clase 6. Esto destaca la complejidad y la riqueza del espacio de características y cómo los cambios en los datos de entrada pueden afectar a las predicciones del modelo."
      ]
    },
    {
      "cell_type": "code",
      "execution_count": null,
      "metadata": {
        "colab": {
          "base_uri": "https://localhost:8080/",
          "height": 465
        },
        "id": "fwDPY1y61xWV",
        "outputId": "244f5fb2-fb7d-41f9-f041-4e7033b688ae"
      },
      "outputs": [
        {
          "name": "stdout",
          "output_type": "stream",
          "text": [
            "Counterfactual prediction: 9\n",
            "Closest prototype class: 6\n"
          ]
        },
        {
          "data": {
            "image/png": "[encoded data removed]",
            "text/plain": [
              "<Figure size 640x480 with 1 Axes>"
            ]
          },
          "metadata": {},
          "output_type": "display_data"
        }
      ],
      "source": [
        "print('Counterfactual prediction: {}'.format(explanation_k20.cf['class']))\n",
        "print(f'Closest prototype class: {explanation.id_proto}')\n",
        "plt.imshow(explanation_k20.cf['X'].reshape(28, 28));"
      ]
    },
    {
      "cell_type": "markdown",
      "metadata": {},
      "source": [
        "Obtenemos los mismos resultados que anteriormente pero, en este caso, observamos que en la representación gráfica se puede distingir de manera simple que el nuevo dígito es mucho más semejante al 9 que al originalmente 4."
      ]
    },
    {
      "cell_type": "markdown",
      "metadata": {},
      "source": [
        "A continuación, vamos a proceder a especificar las clases prototipo, considerando todas aquellas posibles dado nuestro rango de características.\n",
        "\n",
        "Concretamente, especificaremos todas las clases posibles menos la original(0, 1, 2, 3, 5, 6, 7, 8 y 9) usando el método de los 10-vecinos más cercanos usandonla media de los atributos de estos."
      ]
    },
    {
      "cell_type": "code",
      "execution_count": 59,
      "metadata": {
        "colab": {
          "base_uri": "https://localhost:8080/"
        },
        "id": "NrZ4bhcZ2L9Z",
        "outputId": "98dfd0c1-5abc-4a9b-c58c-49b31c91c553"
      },
      "outputs": [],
      "source": [
        "# Clase objetivo 0\n",
        "explanation_0 = cf.explain(X_p, k=10, k_type='mean', target_class=[0])\n",
        "proto_0 = explanation_0.id_proto\n",
        "\n",
        "# Clase objetivo 1\n",
        "explanation_1 = cf.explain(X_p, k=10, k_type='mean', target_class=[1])\n",
        "proto_1 = explanation_1.id_proto\n",
        "\n",
        "# Clase objetivo 2\n",
        "explanation_2 = cf.explain(X_p, k=10, k_type='mean', target_class=[2])\n",
        "proto_2 = explanation_2.id_proto\n",
        "\n",
        "# Clase objetivo 3\n",
        "explanation_3 = cf.explain(X_p, k=10, k_type='mean', target_class=[3])\n",
        "proto_3 = explanation_3.id_proto\n",
        "\n",
        "#explanation_4 = cf.explain(X_p, k=10, k_type='mean', target_class=[4])\n",
        "#proto_4 = explanation_4.id_proto\n",
        "\n",
        "# Clase objetivo 5\n",
        "explanation_5 = cf.explain(X_p, k=10, k_type='mean', target_class=[5])\n",
        "proto_5 = explanation_5.id_proto\n",
        "\n",
        "# Clase objetivo 6\n",
        "explanation_6 = cf.explain(X_p, k=10, k_type='mean', target_class=[6])\n",
        "proto_6 = explanation_6.id_proto\n",
        "\n",
        "# Clase objetivo 7\n",
        "explanation_7 = cf.explain(X_p, k=10, k_type='mean', target_class=[7])\n",
        "proto_7 = explanation_7.id_proto\n",
        "\n",
        "# Clase objetivo 8\n",
        "explanation_8 = cf.explain(X_p, k=10, k_type='mean', target_class=[8])\n",
        "proto_8 = explanation_8.id_proto\n",
        "\n",
        "# Clase objetivo 9\n",
        "explanation_9 = cf.explain(X_p, k=10, k_type='mean', target_class=[9])\n",
        "proto_9 = explanation_9.id_proto\n",
        "\n",
        "# SIN clases objetivo previas, la selecciona automaticamente\n",
        "explanation_best = cf.explain(X_p, k=10, k_type='mean')\n",
        "proto_best = explanation_best.id_proto"
      ]
    },
    {
      "cell_type": "code",
      "execution_count": 60,
      "metadata": {
        "colab": {
          "base_uri": "https://localhost:8080/",
          "height": 465
        },
        "id": "nZnHPhsx4DWI",
        "outputId": "0ce1cb91-b2e3-49c1-bf3b-42c93fd23b92"
      },
      "outputs": [
        {
          "name": "stdout",
          "output_type": "stream",
          "text": [
            "Counterfactual prediction: 0\n",
            "Closest prototype class: 0\n"
          ]
        },
        {
          "data": {
            "image/png": "[encoded data removed]",
            "text/plain": [
              "<Figure size 640x480 with 1 Axes>"
            ]
          },
          "metadata": {},
          "output_type": "display_data"
        }
      ],
      "source": [
        "print('Counterfactual prediction: {}'.format(explanation_0.cf['class']))\n",
        "print(f'Closest prototype class: {proto_0}')\n",
        "plt.imshow(explanation_0.cf['X'].reshape(28, 28));"
      ]
    },
    {
      "cell_type": "markdown",
      "metadata": {},
      "source": [
        "Observamos que nuestro dígito se ha deformado totalmente."
      ]
    },
    {
      "cell_type": "code",
      "execution_count": 61,
      "metadata": {
        "colab": {
          "base_uri": "https://localhost:8080/",
          "height": 465
        },
        "id": "qpXVFcmN4C_G",
        "outputId": "04fb079b-720d-4332-df44-6bc3769bb51c"
      },
      "outputs": [
        {
          "name": "stdout",
          "output_type": "stream",
          "text": [
            "Counterfactual prediction: 1\n",
            "Closest prototype class: 1\n"
          ]
        },
        {
          "data": {
            "image/png": "[encoded data removed]",
            "text/plain": [
              "<Figure size 640x480 with 1 Axes>"
            ]
          },
          "metadata": {},
          "output_type": "display_data"
        }
      ],
      "source": [
        "print('Counterfactual prediction: {}'.format(explanation_1.cf['class']))\n",
        "print(f'Closest prototype class: {proto_1}')\n",
        "plt.imshow(explanation_1.cf['X'].reshape(28, 28));"
      ]
    },
    {
      "cell_type": "markdown",
      "metadata": {},
      "source": [
        "Observamos que nuestro dígito no se ha deformado, sinó que se han concentrado más datos apelmazados formando la figura de algo aproximado a un 1."
      ]
    },
    {
      "cell_type": "code",
      "execution_count": 62,
      "metadata": {
        "colab": {
          "base_uri": "https://localhost:8080/",
          "height": 465
        },
        "id": "jPzDgq404C7o",
        "outputId": "1461bf8e-9dbe-41f5-e2dc-ae2cbd24eb33"
      },
      "outputs": [
        {
          "name": "stdout",
          "output_type": "stream",
          "text": [
            "Counterfactual prediction: 2\n",
            "Closest prototype class: 2\n"
          ]
        },
        {
          "data": {
            "image/png": "[encoded data removed]",
            "text/plain": [
              "<Figure size 640x480 with 1 Axes>"
            ]
          },
          "metadata": {},
          "output_type": "display_data"
        }
      ],
      "source": [
        "print('Counterfactual prediction: {}'.format(explanation_2.cf['class']))\n",
        "print(f'Closest prototype class: {proto_2}')\n",
        "plt.imshow(explanation_2.cf['X'].reshape(28, 28));"
      ]
    },
    {
      "cell_type": "markdown",
      "metadata": {},
      "source": [
        "Observamos que nuestro dígito no se ha deformado, sinó que se han concentrado más datos apelmazados formando la figura de algo aproximado a un 2 tal como pasaba en el anterior caso."
      ]
    },
    {
      "cell_type": "code",
      "execution_count": 63,
      "metadata": {
        "colab": {
          "base_uri": "https://localhost:8080/",
          "height": 465
        },
        "id": "uhfnOoT34C30",
        "outputId": "b3cb9213-56fe-4c7c-b0ae-da588693abc1"
      },
      "outputs": [
        {
          "name": "stdout",
          "output_type": "stream",
          "text": [
            "Counterfactual prediction: 3\n",
            "Closest prototype class: 3\n"
          ]
        },
        {
          "data": {
            "image/png": "[encoded data removed]",
            "text/plain": [
              "<Figure size 640x480 with 1 Axes>"
            ]
          },
          "metadata": {},
          "output_type": "display_data"
        }
      ],
      "source": [
        "print('Counterfactual prediction: {}'.format(explanation_3.cf['class']))\n",
        "print(f'Closest prototype class: {proto_3}')\n",
        "plt.imshow(explanation_3.cf['X'].reshape(28, 28));"
      ]
    },
    {
      "cell_type": "markdown",
      "metadata": {},
      "source": [
        "Observamos que nuestro dígito no se ha deformado prácticamente nada."
      ]
    },
    {
      "cell_type": "code",
      "execution_count": 65,
      "metadata": {
        "colab": {
          "base_uri": "https://localhost:8080/",
          "height": 465
        },
        "id": "ZYIwS3IR4Cwa",
        "outputId": "9355bb3d-0a73-4994-a640-b0e7ae25b762"
      },
      "outputs": [
        {
          "name": "stdout",
          "output_type": "stream",
          "text": [
            "Counterfactual prediction: 5\n",
            "Closest prototype class: 5\n"
          ]
        },
        {
          "data": {
            "image/png": "[encoded data removed]",
            "text/plain": [
              "<Figure size 640x480 with 1 Axes>"
            ]
          },
          "metadata": {},
          "output_type": "display_data"
        }
      ],
      "source": [
        "print('Counterfactual prediction: {}'.format(explanation_5.cf['class']))\n",
        "print(f'Closest prototype class: {proto_5}')\n",
        "plt.imshow(explanation_5.cf['X'].reshape(28, 28));"
      ]
    },
    {
      "cell_type": "markdown",
      "metadata": {},
      "source": [
        "Observamos que nuestro dígito se ha deformado bastante."
      ]
    },
    {
      "cell_type": "code",
      "execution_count": 66,
      "metadata": {
        "colab": {
          "base_uri": "https://localhost:8080/",
          "height": 465
        },
        "id": "-8SMe-nn4CtK",
        "outputId": "a130a273-4055-4e84-acac-4957a50597c4"
      },
      "outputs": [
        {
          "name": "stdout",
          "output_type": "stream",
          "text": [
            "Counterfactual prediction: 6\n",
            "Closest prototype class: 6\n"
          ]
        },
        {
          "data": {
            "image/png": "[encoded data removed]",
            "text/plain": [
              "<Figure size 640x480 with 1 Axes>"
            ]
          },
          "metadata": {},
          "output_type": "display_data"
        }
      ],
      "source": [
        "print('Counterfactual prediction: {}'.format(explanation_6.cf['class']))\n",
        "print(f'Closest prototype class: {proto_6}')\n",
        "plt.imshow(explanation_6.cf['X'].reshape(28, 28));"
      ]
    },
    {
      "cell_type": "markdown",
      "metadata": {},
      "source": [
        "Observamos que nuestro dígito se ha deformado totalmente."
      ]
    },
    {
      "cell_type": "code",
      "execution_count": 67,
      "metadata": {
        "colab": {
          "base_uri": "https://localhost:8080/",
          "height": 465
        },
        "id": "wQs4BiZm4Cpq",
        "outputId": "0a70a34a-6840-471d-ff4f-33ba6fdb5fe6"
      },
      "outputs": [
        {
          "name": "stdout",
          "output_type": "stream",
          "text": [
            "Counterfactual prediction: 7\n",
            "Closest prototype class: 7\n"
          ]
        },
        {
          "data": {
            "image/png": "[encoded data removed]",
            "text/plain": [
              "<Figure size 640x480 with 1 Axes>"
            ]
          },
          "metadata": {},
          "output_type": "display_data"
        }
      ],
      "source": [
        "print('Counterfactual prediction: {}'.format(explanation_7.cf['class']))\n",
        "print(f'Closest prototype class: {proto_7}')\n",
        "plt.imshow(explanation_7.cf['X'].reshape(28, 28));"
      ]
    },
    {
      "cell_type": "markdown",
      "metadata": {},
      "source": [
        "Observamos que nuestro dígito no se ha deformado prácticamente."
      ]
    },
    {
      "cell_type": "code",
      "execution_count": 68,
      "metadata": {
        "colab": {
          "base_uri": "https://localhost:8080/",
          "height": 465
        },
        "id": "6eyW0JsZ4CjG",
        "outputId": "f54f5416-b6a2-4557-f1e4-767939cac19c"
      },
      "outputs": [
        {
          "name": "stdout",
          "output_type": "stream",
          "text": [
            "Counterfactual prediction: 8\n",
            "Closest prototype class: 8\n"
          ]
        },
        {
          "data": {
            "image/png": "[encoded data removed]",
            "text/plain": [
              "<Figure size 640x480 with 1 Axes>"
            ]
          },
          "metadata": {},
          "output_type": "display_data"
        }
      ],
      "source": [
        "print('Counterfactual prediction: {}'.format(explanation_8.cf['class']))\n",
        "print(f'Closest prototype class: {proto_8}')\n",
        "plt.imshow(explanation_8.cf['X'].reshape(28, 28));"
      ]
    },
    {
      "cell_type": "markdown",
      "metadata": {},
      "source": [
        "A partir del dígito inicial, sorprendentemente, ha construido un 8 bastante evidente."
      ]
    },
    {
      "cell_type": "code",
      "execution_count": 70,
      "metadata": {
        "colab": {
          "base_uri": "https://localhost:8080/",
          "height": 465
        },
        "id": "tmUFKyqt4KFo",
        "outputId": "caa3feff-fdb6-482d-ae66-acfe1e48d95a"
      },
      "outputs": [
        {
          "name": "stdout",
          "output_type": "stream",
          "text": [
            "Counterfactual prediction: 9\n",
            "Closest prototype class: 9\n"
          ]
        },
        {
          "data": {
            "image/png": "[encoded data removed]",
            "text/plain": [
              "<Figure size 640x480 with 1 Axes>"
            ]
          },
          "metadata": {},
          "output_type": "display_data"
        }
      ],
      "source": [
        "print('Counterfactual prediction: {}'.format(explanation_9.cf['class']))\n",
        "print(f'Closest prototype class: {proto_9}')\n",
        "plt.imshow(explanation_9.cf['X'].reshape(28, 28));"
      ]
    },
    {
      "cell_type": "code",
      "execution_count": 71,
      "metadata": {
        "colab": {
          "base_uri": "https://localhost:8080/",
          "height": 465
        },
        "id": "G_O4_a2n4J_y",
        "outputId": "209cc6af-eb4c-460e-e423-ebf4ddbec752"
      },
      "outputs": [
        {
          "name": "stdout",
          "output_type": "stream",
          "text": [
            "Counterfactual prediction: 9\n",
            "Closest prototype class: 9\n"
          ]
        },
        {
          "data": {
            "image/png": "[encoded data removed]",
            "text/plain": [
              "<Figure size 640x480 with 1 Axes>"
            ]
          },
          "metadata": {},
          "output_type": "display_data"
        }
      ],
      "source": [
        "print('Counterfactual prediction: {}'.format(explanation_best.cf['class']))\n",
        "print(f'Closest prototype class: {proto_best}')\n",
        "plt.imshow(explanation_best.cf['X'].reshape(28, 28));"
      ]
    },
    {
      "cell_type": "markdown",
      "metadata": {
        "id": "T1kUh8tDZzsL"
      },
      "source": [
        "Las últimas dos representaciones de los resultados de las respectivas explicaciones contrafactualesson la misma ya que se trata del dígito 9 tal y como hemos comentado anteriormente.\n"
      ]
    },
    {
      "cell_type": "code",
      "execution_count": null,
      "metadata": {},
      "outputs": [],
      "source": [
        "os.remove('mnist_cnn.h5')\n",
        "os.remove('mnist_ae.h5')\n",
        "os.remove('mnist_enc.h5')"
      ]
    },
    {
      "cell_type": "markdown",
      "metadata": {},
      "source": [
        "Todo el código de ejemplo ha sido sacado de la librería `alibi`, nosotros hemos incorporado explicaciones detalladas y algunas pruebas extras para la ayuda de la comprensión del método particular con el que estamos trabajando.\n",
        "\n",
        "Para obtener más códigos de ejemplo, navegar en la libreria."
      ]
    }
  ],
  "metadata": {
    "accelerator": "GPU",
    "colab": {
      "gpuType": "T4",
      "provenance": []
    },
    "kernelspec": {
      "display_name": "Python 3",
      "name": "python3"
    },
    "language_info": {
      "codemirror_mode": {
        "name": "ipython",
        "version": 3
      },
      "file_extension": ".py",
      "mimetype": "text/x-python",
      "name": "python",
      "nbconvert_exporter": "python",
      "pygments_lexer": "ipython3",
      "version": "3.11.7"
    }
  },
  "nbformat": 4,
  "nbformat_minor": 0
}
