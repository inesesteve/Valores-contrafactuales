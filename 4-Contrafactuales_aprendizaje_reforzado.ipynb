{
  "cells": [
    {
      "cell_type": "markdown",
      "metadata": {
        "id": "WESv51jQf1gv"
      },
      "source": [
        "# **METODO 4**\n",
        "# **Contrafactuales con aprendizaje por refuerzo (CFRL)**"
      ]
    },
    {
      "cell_type": "markdown",
      "metadata": {},
      "source": [
        "Este método, descrito en el artículo [Explicaciones contrafactuales escalables y agnósticas del modelo mediante aprendizaje por refuerzo](https://arxiv.org/abs/2106.02597), puede generar instancias contrafactuales para cualquier modelo de caja negra, es decir, modelos cuyos detalles internos son desconocidos o difíciles de interpretar. \n",
        "\n",
        "Lo más destacado de este enfoque es que transforma el proceso de optimización habitual en un proceso de aprendizaje, lo que permite generar lotes de instancias contrafactuales en un solo paso hacia adelante, incluso para conjuntos de datos de alta dimensión. \n",
        "\n",
        "Un aspecto clave es que este proceso de capacitación es independiente del modelo en cuestión y se basa únicamente en la retroalimentación de predicción obtenida al consultar el modelo de caja negra. Esto significa que no importa qué tipo de modelo se esté utilizando, este método puede aplicarse de manera efectiva. \n",
        "\n",
        "Además, el método se distingue por su capacidad para acomodar objetivos y características específicas. Esta flexibilidad lo hace altamente adaptable a una variedad de escenarios y requisitos de aplicación, lo que lo convierte en una herramienta poderosa para comprender y explicar el comportamiento de los modelos de caja negra en diversas aplicaciones de aprendizaje automático..\n"
      ]
    },
    {
      "cell_type": "markdown",
      "metadata": {},
      "source": [
        "\n",
        "En este caso de uso, ilustramos la integración con el backend de TensorFlow. Esto implica que todos los modelos involucrados, como el codificador automático, el actor y el crítico, están implementados como modelos de TensorFlow. Sin embargo, es importante destacar que nuestra implementación también es compatible con el backend de PyTorch. Esto significa que los usuarios tienen la flexibilidad de utilizar el framework que mejor se adapte a sus necesidades y preferencias, ampliando así la accesibilidad y versatilidad de nuestra solución.\n"
      ]
    },
    {
      "cell_type": "markdown",
      "metadata": {},
      "source": [
        "\n",
        "**CFRL** utiliza un gradiente de política determinista profundo (DDPG), que entrelaza un aproximador de función estado-acción llamado crítico con un aproximador de aprendizaje llamado actor para predecir la acción óptima. Este método se basa en la suposición de que el crítico es diferenciable con respecto al argumento de la acción, lo que permite optimizar eficientemente los parámetros del actor a través de métodos basados en gradientes.\n",
        "\n",
        "El algoritmo Deep Deterministic Policy Gradient(DDPG) requiere dos redes separadas, un actor $\\mu$ y un crítico Q. Dada la representación codificada de la instancia de entrada $z = enc(X)$, la predicción del modelo $y_M$, la predicción objetivo $y_T$ y el vector condicionante c, el actor genera la representación latente del contrafactual $z_{CF} = \\mu(z, y_M, y_T, c)$. Luego, el decodificador proyecta la incrustación $z_{CF}$ de nuevo al espacio de entrada original, seguido de un posprocesamiento opcional.\n",
        "\n",
        "Pasamos a realizar una descripción de cómo se lleva a cabo el paso de entrenamiento: \n",
        "1. **Optimización simultánea de actores y críticos**: Durante el paso de entrenamiento, tanto el actor como el crítico se actualizan simultáneamente para mejorar el desempeño del modelo en la tarea en cuestión.\n",
        "\n",
        "2. **Retroceso del crítico en la recompensa $R$**: El crítico ajusta sus parámetros mediante retropropagación utilizando la recompensa $R$ determinada por la predicción del modelo. Esto significa que el crítico aprende a evaluar de manera más precisa las acciones tomadas por el actor en función de la señal de recompensa.\n",
        "\n",
        "3. **Maximización de la producción del crítico por parte del actor**: El actor ajusta sus parámetros para maximizar la salida del crítico para la instancia dada a través de $L_{max}$. Esto implica que el actor busca acciones que el crítico considere altamente valiosas en términos de la recompensa esperada.\n",
        "\n",
        "4. **Minimización de dos objetivos adicionales del actor**:\n",
        "\n",
        "    4.1. **Pérdida de escasez $L_{sparsity}$**: Esta pérdida opera en el contrafactual decodificado $x_{CF}$ y busca fomentar la generación de contrafactuales escasos en la distribución. Esto se logra combinando una pérdida $L_1$ sobre las características numéricas estandarizadas y una pérdida $L_0$ sobre las características categóricas.\n",
        "\n",
        "    4.2. **Pérdida de consistencia $L_{consistency}$**: Esta pérdida pretende asegurar que el contrafactual $x_{CF}$ decodificado regrese a la misma representación latente desde donde fue decodificado. Esto ayuda a producir instancias contrafactuales coherentes en la distribución.\n",
        "\n",
        "5. **Formalización de la pérdida del actor**: La pérdida total del actor se expresa como una combinación ponderada de las pérdidas de maximización, escasez y consistencia. Formalmente, se escribe como:\n",
        "\n",
        "$$\n",
        "L_{actor} = L_{max} + \\lambda_1 L_{sparsity} + \\lambda_2 L_{consistency}\n",
        "$$\n",
        "\n",
        "Donde $\\lambda_1$ y $\\lambda_2$ son coeficientes de ponderación que controlan la influencia relativa de cada término en la pérdida total del actor."
      ]
    },
    {
      "cell_type": "markdown",
      "metadata": {},
      "source": [
        "## Ejemplos de aplicación de la librería Alibi Explain\n",
        "1. **Contrafactuales con aprendizaje por refuerzo en el censo de adultos**\n",
        "2. **Contrafactuales con aprendizaje por refuerzo en MNIST**"
      ]
    },
    {
      "cell_type": "markdown",
      "metadata": {},
      "source": [
        "Para habilitar la compatibilidad con CounterfactualRLTabular con backend de tensorflow, es posible que deba ejecutar:\n",
        "\n",
        "        pip install alibi[tensorflow]"
      ]
    },
    {
      "cell_type": "code",
      "execution_count": 5,
      "metadata": {
        "id": "BS1ynFKif1De"
      },
      "outputs": [],
      "source": [
        "import os\n",
        "import numpy as np\n",
        "import pandas as pd\n",
        "from copy import deepcopy\n",
        "from typing import List, Tuple, Dict, Callable\n",
        "\n",
        "import tensorflow as tf\n",
        "import tensorflow.keras as keras\n",
        "\n",
        "from sklearn.compose import ColumnTransformer\n",
        "from sklearn.impute import SimpleImputer\n",
        "from sklearn.preprocessing import StandardScaler, OneHotEncoder\n",
        "from sklearn.model_selection import train_test_split\n",
        "from sklearn.metrics import accuracy_score\n",
        "\n",
        "from xgboost import XGBClassifier\n",
        "from sklearn.ensemble import RandomForestClassifier\n",
        "from sklearn.tree import DecisionTreeClassifier\n",
        "from sklearn.linear_model import LogisticRegression\n",
        "\n",
        "from alibi.explainers import CounterfactualRLTabular, CounterfactualRL\n",
        "from alibi.datasets import fetch_adult\n",
        "from alibi.models.tensorflow import HeAE, AE\n",
        "from alibi.models.tensorflow import Actor, Critic\n",
        "from alibi.models.tensorflow import ADULTEncoder, ADULTDecoder\n",
        "from alibi.models.tensorflow import MNISTEncoder, MNISTDecoder, MNISTClassifier\n",
        "from alibi.explainers.cfrl_base import Callback\n",
        "from alibi.explainers.backends.cfrl_tabular import get_he_preprocessor, get_statistics, \\\n",
        "    get_conditional_vector, apply_category_mapping"
      ]
    },
    {
      "cell_type": "markdown",
      "metadata": {},
      "source": [
        "A continuación, iremos explicando, paso a paso, todo el planteamiento y resolución de los dos diferentes problemas, añadiendo código en algunos casos para comprender mejor que está ocurriendo en cada caso."
      ]
    },
    {
      "cell_type": "markdown",
      "metadata": {},
      "source": [
        "## **1. Contrafactuales con aprendizaje por refuerzo en el censo de adultos**"
      ]
    },
    {
      "cell_type": "markdown",
      "metadata": {},
      "source": [
        "### Carga del conjunto de datos del censo de adultos\n",
        "\n",
        "Proceddemos a la explicación de las variables del conjunto de datos a estudiar:\n",
        "\n",
        "-***class*** : Clase o categoría a la que pertenece el individuo, como \"<=50K\" o \">50K\" para indicar si gana menos o más de 50.000 dólares al año.\n",
        "\n",
        "-***Age*** : La edad del individuo.\n",
        "\n",
        "-***Workclass*** : El tipo de empleo del individuo, como \"Private\", \"Self-emp-not-inc\", etc.\n",
        "\n",
        "-***Education*** : El nivel de educación del individuo, como \"Bachelors\", \"HS-grad\", etc.\n",
        "\n",
        "-***Marital Status*** : El estado civil del individuo, como \"Married-civ-spouse\", \"Divorced\", etc.\n",
        "\n",
        "-***Occupation*** : La ocupación del individuo, como \"Tech-support\", \"Craft-repair\", etc.\n",
        "\n",
        "-***Relationship*** : La relación del individuo en la familia, como \"Wife\", \"Own-child\", etc.\n",
        "\n",
        "-***Race*** : La raza del individuo, como \"White\", \"Black\", etc.\n",
        "\n",
        "-***Sex*** : El sexo del individuo, \"Male\" o \"Female\".\n",
        "\n",
        "-***Capital Gain*** : Las ganancias de capital del individuo.\n",
        "\n",
        "-***Capital Loss*** : Las pérdidas de capital del individuo.\n",
        "\n",
        "-***Hours per Week*** : El número de horas trabajadas por semana.\n",
        "\n",
        "-***Country*** : El país de origen del individuo.\n",
        "\n",
        "-***fnlwgt*** : aproximación a los antecedentes demográficos de las personas y se utiliza como un factor de ponderación en el conjunto de datos.\n",
        "\n",
        "Procedemos a cargar el conjunto de datos, separar las columnas en variables categóricas y numéricas, y finalmente, dividir los datos en dos conjuntos: de entrenamiento y de prueba.\n"
      ]
    },
    {
      "cell_type": "code",
      "execution_count": 2,
      "metadata": {},
      "outputs": [],
      "source": [
        "# Fetch adult dataset\n",
        "adult = fetch_adult()\n",
        "\n",
        "# Separate columns in numerical and categorical.\n",
        "categorical_names = [adult.feature_names[i] for i in adult.category_map.keys()]\n",
        "categorical_ids = list(adult.category_map.keys())\n",
        "\n",
        "numerical_names = [name for i, name in enumerate(adult.feature_names) if i not in adult.category_map.keys()]\n",
        "numerical_ids = [i for i in range(len(adult.feature_names)) if i not in adult.category_map.keys()]\n",
        "\n",
        "# Split data into train and test\n",
        "X, Y = adult.data, adult.target\n",
        "X_train, X_test, Y_train, Y_test = train_test_split(X, Y, test_size=0.2, random_state=13)"
      ]
    },
    {
      "cell_type": "markdown",
      "metadata": {},
      "source": [
        "### Clasificador de caja negra de tren\n",
        "\n",
        "Se definen transformadores para estandarizar variables numéricas y codificar variables categóricas mediante one-hot encoding. Luego, se utiliza un transformador de columnas para aplicar estas transformaciones a las columnas correspondientes del conjunto de datos."
      ]
    },
    {
      "cell_type": "code",
      "execution_count": 3,
      "metadata": {},
      "outputs": [],
      "source": [
        "# Define numerical standard scaler.\n",
        "num_transf = StandardScaler()\n",
        "\n",
        "# Define categorical one-hot encoder.\n",
        "cat_transf = OneHotEncoder(\n",
        "    categories=[range(len(x)) for x in adult.category_map.values()],\n",
        "    handle_unknown=\"ignore\"\n",
        ")\n",
        "\n",
        "# Define column transformer\n",
        "preprocessor = ColumnTransformer(\n",
        "    transformers=[\n",
        "        (\"cat\", cat_transf, categorical_ids),\n",
        "        (\"num\", num_transf, numerical_ids),\n",
        "    ],\n",
        "    sparse_threshold=0\n",
        ")"
      ]
    },
    {
      "cell_type": "markdown",
      "metadata": {},
      "source": [
        "Entrenamos el preprocesador con los datos de entrenamiento y luego aplicamos el preprocesamiento a los conjuntos de datos de entrenamiento y prueba, transformándolos según las transformaciones definidas anteriormente."
      ]
    },
    {
      "cell_type": "code",
      "execution_count": 4,
      "metadata": {},
      "outputs": [],
      "source": [
        "# Fit preprocessor.\n",
        "preprocessor.fit(X_train)\n",
        "\n",
        "# Preprocess train and test dataset.\n",
        "X_train_ohe = preprocessor.transform(X_train)\n",
        "X_test_ohe = preprocessor.transform(X_test)"
      ]
    },
    {
      "cell_type": "markdown",
      "metadata": {},
      "source": [
        "Selecciona un clasificador `RandomForestClassifier` con ciertos hiperparámetros y lo ajustamos utilizando los datos de entrenamiento preprocesados."
      ]
    },
    {
      "cell_type": "code",
      "execution_count": 5,
      "metadata": {},
      "outputs": [
        {
          "data": {
            "text/html": [
              "<style>#sk-container-id-1 {\n",
              "  /* Definition of color scheme common for light and dark mode */\n",
              "  --sklearn-color-text: black;\n",
              "  --sklearn-color-line: gray;\n",
              "  /* Definition of color scheme for unfitted estimators */\n",
              "  --sklearn-color-unfitted-level-0: #fff5e6;\n",
              "  --sklearn-color-unfitted-level-1: #f6e4d2;\n",
              "  --sklearn-color-unfitted-level-2: #ffe0b3;\n",
              "  --sklearn-color-unfitted-level-3: chocolate;\n",
              "  /* Definition of color scheme for fitted estimators */\n",
              "  --sklearn-color-fitted-level-0: #f0f8ff;\n",
              "  --sklearn-color-fitted-level-1: #d4ebff;\n",
              "  --sklearn-color-fitted-level-2: #b3dbfd;\n",
              "  --sklearn-color-fitted-level-3: cornflowerblue;\n",
              "\n",
              "  /* Specific color for light theme */\n",
              "  --sklearn-color-text-on-default-background: var(--sg-text-color, var(--theme-code-foreground, var(--jp-content-font-color1, black)));\n",
              "  --sklearn-color-background: var(--sg-background-color, var(--theme-background, var(--jp-layout-color0, white)));\n",
              "  --sklearn-color-border-box: var(--sg-text-color, var(--theme-code-foreground, var(--jp-content-font-color1, black)));\n",
              "  --sklearn-color-icon: #696969;\n",
              "\n",
              "  @media (prefers-color-scheme: dark) {\n",
              "    /* Redefinition of color scheme for dark theme */\n",
              "    --sklearn-color-text-on-default-background: var(--sg-text-color, var(--theme-code-foreground, var(--jp-content-font-color1, white)));\n",
              "    --sklearn-color-background: var(--sg-background-color, var(--theme-background, var(--jp-layout-color0, #111)));\n",
              "    --sklearn-color-border-box: var(--sg-text-color, var(--theme-code-foreground, var(--jp-content-font-color1, white)));\n",
              "    --sklearn-color-icon: #878787;\n",
              "  }\n",
              "}\n",
              "\n",
              "#sk-container-id-1 {\n",
              "  color: var(--sklearn-color-text);\n",
              "}\n",
              "\n",
              "#sk-container-id-1 pre {\n",
              "  padding: 0;\n",
              "}\n",
              "\n",
              "#sk-container-id-1 input.sk-hidden--visually {\n",
              "  border: 0;\n",
              "  clip: rect(1px 1px 1px 1px);\n",
              "  clip: rect(1px, 1px, 1px, 1px);\n",
              "  height: 1px;\n",
              "  margin: -1px;\n",
              "  overflow: hidden;\n",
              "  padding: 0;\n",
              "  position: absolute;\n",
              "  width: 1px;\n",
              "}\n",
              "\n",
              "#sk-container-id-1 div.sk-dashed-wrapped {\n",
              "  border: 1px dashed var(--sklearn-color-line);\n",
              "  margin: 0 0.4em 0.5em 0.4em;\n",
              "  box-sizing: border-box;\n",
              "  padding-bottom: 0.4em;\n",
              "  background-color: var(--sklearn-color-background);\n",
              "}\n",
              "\n",
              "#sk-container-id-1 div.sk-container {\n",
              "  /* jupyter's `normalize.less` sets `[hidden] { display: none; }`\n",
              "     but bootstrap.min.css set `[hidden] { display: none !important; }`\n",
              "     so we also need the `!important` here to be able to override the\n",
              "     default hidden behavior on the sphinx rendered scikit-learn.org.\n",
              "     See: https://github.com/scikit-learn/scikit-learn/issues/21755 */\n",
              "  display: inline-block !important;\n",
              "  position: relative;\n",
              "}\n",
              "\n",
              "#sk-container-id-1 div.sk-text-repr-fallback {\n",
              "  display: none;\n",
              "}\n",
              "\n",
              "div.sk-parallel-item,\n",
              "div.sk-serial,\n",
              "div.sk-item {\n",
              "  /* draw centered vertical line to link estimators */\n",
              "  background-image: linear-gradient(var(--sklearn-color-text-on-default-background), var(--sklearn-color-text-on-default-background));\n",
              "  background-size: 2px 100%;\n",
              "  background-repeat: no-repeat;\n",
              "  background-position: center center;\n",
              "}\n",
              "\n",
              "/* Parallel-specific style estimator block */\n",
              "\n",
              "#sk-container-id-1 div.sk-parallel-item::after {\n",
              "  content: \"\";\n",
              "  width: 100%;\n",
              "  border-bottom: 2px solid var(--sklearn-color-text-on-default-background);\n",
              "  flex-grow: 1;\n",
              "}\n",
              "\n",
              "#sk-container-id-1 div.sk-parallel {\n",
              "  display: flex;\n",
              "  align-items: stretch;\n",
              "  justify-content: center;\n",
              "  background-color: var(--sklearn-color-background);\n",
              "  position: relative;\n",
              "}\n",
              "\n",
              "#sk-container-id-1 div.sk-parallel-item {\n",
              "  display: flex;\n",
              "  flex-direction: column;\n",
              "}\n",
              "\n",
              "#sk-container-id-1 div.sk-parallel-item:first-child::after {\n",
              "  align-self: flex-end;\n",
              "  width: 50%;\n",
              "}\n",
              "\n",
              "#sk-container-id-1 div.sk-parallel-item:last-child::after {\n",
              "  align-self: flex-start;\n",
              "  width: 50%;\n",
              "}\n",
              "\n",
              "#sk-container-id-1 div.sk-parallel-item:only-child::after {\n",
              "  width: 0;\n",
              "}\n",
              "\n",
              "/* Serial-specific style estimator block */\n",
              "\n",
              "#sk-container-id-1 div.sk-serial {\n",
              "  display: flex;\n",
              "  flex-direction: column;\n",
              "  align-items: center;\n",
              "  background-color: var(--sklearn-color-background);\n",
              "  padding-right: 1em;\n",
              "  padding-left: 1em;\n",
              "}\n",
              "\n",
              "\n",
              "/* Toggleable style: style used for estimator/Pipeline/ColumnTransformer box that is\n",
              "clickable and can be expanded/collapsed.\n",
              "- Pipeline and ColumnTransformer use this feature and define the default style\n",
              "- Estimators will overwrite some part of the style using the `sk-estimator` class\n",
              "*/\n",
              "\n",
              "/* Pipeline and ColumnTransformer style (default) */\n",
              "\n",
              "#sk-container-id-1 div.sk-toggleable {\n",
              "  /* Default theme specific background. It is overwritten whether we have a\n",
              "  specific estimator or a Pipeline/ColumnTransformer */\n",
              "  background-color: var(--sklearn-color-background);\n",
              "}\n",
              "\n",
              "/* Toggleable label */\n",
              "#sk-container-id-1 label.sk-toggleable__label {\n",
              "  cursor: pointer;\n",
              "  display: block;\n",
              "  width: 100%;\n",
              "  margin-bottom: 0;\n",
              "  padding: 0.5em;\n",
              "  box-sizing: border-box;\n",
              "  text-align: center;\n",
              "}\n",
              "\n",
              "#sk-container-id-1 label.sk-toggleable__label-arrow:before {\n",
              "  /* Arrow on the left of the label */\n",
              "  content: \"▸\";\n",
              "  float: left;\n",
              "  margin-right: 0.25em;\n",
              "  color: var(--sklearn-color-icon);\n",
              "}\n",
              "\n",
              "#sk-container-id-1 label.sk-toggleable__label-arrow:hover:before {\n",
              "  color: var(--sklearn-color-text);\n",
              "}\n",
              "\n",
              "/* Toggleable content - dropdown */\n",
              "\n",
              "#sk-container-id-1 div.sk-toggleable__content {\n",
              "  max-height: 0;\n",
              "  max-width: 0;\n",
              "  overflow: hidden;\n",
              "  text-align: left;\n",
              "  /* unfitted */\n",
              "  background-color: var(--sklearn-color-unfitted-level-0);\n",
              "}\n",
              "\n",
              "#sk-container-id-1 div.sk-toggleable__content.fitted {\n",
              "  /* fitted */\n",
              "  background-color: var(--sklearn-color-fitted-level-0);\n",
              "}\n",
              "\n",
              "#sk-container-id-1 div.sk-toggleable__content pre {\n",
              "  margin: 0.2em;\n",
              "  border-radius: 0.25em;\n",
              "  color: var(--sklearn-color-text);\n",
              "  /* unfitted */\n",
              "  background-color: var(--sklearn-color-unfitted-level-0);\n",
              "}\n",
              "\n",
              "#sk-container-id-1 div.sk-toggleable__content.fitted pre {\n",
              "  /* unfitted */\n",
              "  background-color: var(--sklearn-color-fitted-level-0);\n",
              "}\n",
              "\n",
              "#sk-container-id-1 input.sk-toggleable__control:checked~div.sk-toggleable__content {\n",
              "  /* Expand drop-down */\n",
              "  max-height: 200px;\n",
              "  max-width: 100%;\n",
              "  overflow: auto;\n",
              "}\n",
              "\n",
              "#sk-container-id-1 input.sk-toggleable__control:checked~label.sk-toggleable__label-arrow:before {\n",
              "  content: \"▾\";\n",
              "}\n",
              "\n",
              "/* Pipeline/ColumnTransformer-specific style */\n",
              "\n",
              "#sk-container-id-1 div.sk-label input.sk-toggleable__control:checked~label.sk-toggleable__label {\n",
              "  color: var(--sklearn-color-text);\n",
              "  background-color: var(--sklearn-color-unfitted-level-2);\n",
              "}\n",
              "\n",
              "#sk-container-id-1 div.sk-label.fitted input.sk-toggleable__control:checked~label.sk-toggleable__label {\n",
              "  background-color: var(--sklearn-color-fitted-level-2);\n",
              "}\n",
              "\n",
              "/* Estimator-specific style */\n",
              "\n",
              "/* Colorize estimator box */\n",
              "#sk-container-id-1 div.sk-estimator input.sk-toggleable__control:checked~label.sk-toggleable__label {\n",
              "  /* unfitted */\n",
              "  background-color: var(--sklearn-color-unfitted-level-2);\n",
              "}\n",
              "\n",
              "#sk-container-id-1 div.sk-estimator.fitted input.sk-toggleable__control:checked~label.sk-toggleable__label {\n",
              "  /* fitted */\n",
              "  background-color: var(--sklearn-color-fitted-level-2);\n",
              "}\n",
              "\n",
              "#sk-container-id-1 div.sk-label label.sk-toggleable__label,\n",
              "#sk-container-id-1 div.sk-label label {\n",
              "  /* The background is the default theme color */\n",
              "  color: var(--sklearn-color-text-on-default-background);\n",
              "}\n",
              "\n",
              "/* On hover, darken the color of the background */\n",
              "#sk-container-id-1 div.sk-label:hover label.sk-toggleable__label {\n",
              "  color: var(--sklearn-color-text);\n",
              "  background-color: var(--sklearn-color-unfitted-level-2);\n",
              "}\n",
              "\n",
              "/* Label box, darken color on hover, fitted */\n",
              "#sk-container-id-1 div.sk-label.fitted:hover label.sk-toggleable__label.fitted {\n",
              "  color: var(--sklearn-color-text);\n",
              "  background-color: var(--sklearn-color-fitted-level-2);\n",
              "}\n",
              "\n",
              "/* Estimator label */\n",
              "\n",
              "#sk-container-id-1 div.sk-label label {\n",
              "  font-family: monospace;\n",
              "  font-weight: bold;\n",
              "  display: inline-block;\n",
              "  line-height: 1.2em;\n",
              "}\n",
              "\n",
              "#sk-container-id-1 div.sk-label-container {\n",
              "  text-align: center;\n",
              "}\n",
              "\n",
              "/* Estimator-specific */\n",
              "#sk-container-id-1 div.sk-estimator {\n",
              "  font-family: monospace;\n",
              "  border: 1px dotted var(--sklearn-color-border-box);\n",
              "  border-radius: 0.25em;\n",
              "  box-sizing: border-box;\n",
              "  margin-bottom: 0.5em;\n",
              "  /* unfitted */\n",
              "  background-color: var(--sklearn-color-unfitted-level-0);\n",
              "}\n",
              "\n",
              "#sk-container-id-1 div.sk-estimator.fitted {\n",
              "  /* fitted */\n",
              "  background-color: var(--sklearn-color-fitted-level-0);\n",
              "}\n",
              "\n",
              "/* on hover */\n",
              "#sk-container-id-1 div.sk-estimator:hover {\n",
              "  /* unfitted */\n",
              "  background-color: var(--sklearn-color-unfitted-level-2);\n",
              "}\n",
              "\n",
              "#sk-container-id-1 div.sk-estimator.fitted:hover {\n",
              "  /* fitted */\n",
              "  background-color: var(--sklearn-color-fitted-level-2);\n",
              "}\n",
              "\n",
              "/* Specification for estimator info (e.g. \"i\" and \"?\") */\n",
              "\n",
              "/* Common style for \"i\" and \"?\" */\n",
              "\n",
              ".sk-estimator-doc-link,\n",
              "a:link.sk-estimator-doc-link,\n",
              "a:visited.sk-estimator-doc-link {\n",
              "  float: right;\n",
              "  font-size: smaller;\n",
              "  line-height: 1em;\n",
              "  font-family: monospace;\n",
              "  background-color: var(--sklearn-color-background);\n",
              "  border-radius: 1em;\n",
              "  height: 1em;\n",
              "  width: 1em;\n",
              "  text-decoration: none !important;\n",
              "  margin-left: 1ex;\n",
              "  /* unfitted */\n",
              "  border: var(--sklearn-color-unfitted-level-1) 1pt solid;\n",
              "  color: var(--sklearn-color-unfitted-level-1);\n",
              "}\n",
              "\n",
              ".sk-estimator-doc-link.fitted,\n",
              "a:link.sk-estimator-doc-link.fitted,\n",
              "a:visited.sk-estimator-doc-link.fitted {\n",
              "  /* fitted */\n",
              "  border: var(--sklearn-color-fitted-level-1) 1pt solid;\n",
              "  color: var(--sklearn-color-fitted-level-1);\n",
              "}\n",
              "\n",
              "/* On hover */\n",
              "div.sk-estimator:hover .sk-estimator-doc-link:hover,\n",
              ".sk-estimator-doc-link:hover,\n",
              "div.sk-label-container:hover .sk-estimator-doc-link:hover,\n",
              ".sk-estimator-doc-link:hover {\n",
              "  /* unfitted */\n",
              "  background-color: var(--sklearn-color-unfitted-level-3);\n",
              "  color: var(--sklearn-color-background);\n",
              "  text-decoration: none;\n",
              "}\n",
              "\n",
              "div.sk-estimator.fitted:hover .sk-estimator-doc-link.fitted:hover,\n",
              ".sk-estimator-doc-link.fitted:hover,\n",
              "div.sk-label-container:hover .sk-estimator-doc-link.fitted:hover,\n",
              ".sk-estimator-doc-link.fitted:hover {\n",
              "  /* fitted */\n",
              "  background-color: var(--sklearn-color-fitted-level-3);\n",
              "  color: var(--sklearn-color-background);\n",
              "  text-decoration: none;\n",
              "}\n",
              "\n",
              "/* Span, style for the box shown on hovering the info icon */\n",
              ".sk-estimator-doc-link span {\n",
              "  display: none;\n",
              "  z-index: 9999;\n",
              "  position: relative;\n",
              "  font-weight: normal;\n",
              "  right: .2ex;\n",
              "  padding: .5ex;\n",
              "  margin: .5ex;\n",
              "  width: min-content;\n",
              "  min-width: 20ex;\n",
              "  max-width: 50ex;\n",
              "  color: var(--sklearn-color-text);\n",
              "  box-shadow: 2pt 2pt 4pt #999;\n",
              "  /* unfitted */\n",
              "  background: var(--sklearn-color-unfitted-level-0);\n",
              "  border: .5pt solid var(--sklearn-color-unfitted-level-3);\n",
              "}\n",
              "\n",
              ".sk-estimator-doc-link.fitted span {\n",
              "  /* fitted */\n",
              "  background: var(--sklearn-color-fitted-level-0);\n",
              "  border: var(--sklearn-color-fitted-level-3);\n",
              "}\n",
              "\n",
              ".sk-estimator-doc-link:hover span {\n",
              "  display: block;\n",
              "}\n",
              "\n",
              "/* \"?\"-specific style due to the `<a>` HTML tag */\n",
              "\n",
              "#sk-container-id-1 a.estimator_doc_link {\n",
              "  float: right;\n",
              "  font-size: 1rem;\n",
              "  line-height: 1em;\n",
              "  font-family: monospace;\n",
              "  background-color: var(--sklearn-color-background);\n",
              "  border-radius: 1rem;\n",
              "  height: 1rem;\n",
              "  width: 1rem;\n",
              "  text-decoration: none;\n",
              "  /* unfitted */\n",
              "  color: var(--sklearn-color-unfitted-level-1);\n",
              "  border: var(--sklearn-color-unfitted-level-1) 1pt solid;\n",
              "}\n",
              "\n",
              "#sk-container-id-1 a.estimator_doc_link.fitted {\n",
              "  /* fitted */\n",
              "  border: var(--sklearn-color-fitted-level-1) 1pt solid;\n",
              "  color: var(--sklearn-color-fitted-level-1);\n",
              "}\n",
              "\n",
              "/* On hover */\n",
              "#sk-container-id-1 a.estimator_doc_link:hover {\n",
              "  /* unfitted */\n",
              "  background-color: var(--sklearn-color-unfitted-level-3);\n",
              "  color: var(--sklearn-color-background);\n",
              "  text-decoration: none;\n",
              "}\n",
              "\n",
              "#sk-container-id-1 a.estimator_doc_link.fitted:hover {\n",
              "  /* fitted */\n",
              "  background-color: var(--sklearn-color-fitted-level-3);\n",
              "}\n",
              "</style><div id=\"sk-container-id-1\" class=\"sk-top-container\"><div class=\"sk-text-repr-fallback\"><pre>RandomForestClassifier(max_depth=15, min_samples_split=10, n_estimators=50)</pre><b>In a Jupyter environment, please rerun this cell to show the HTML representation or trust the notebook. <br />On GitHub, the HTML representation is unable to render, please try loading this page with nbviewer.org.</b></div><div class=\"sk-container\" hidden><div class=\"sk-item\"><div class=\"sk-estimator fitted sk-toggleable\"><input class=\"sk-toggleable__control sk-hidden--visually\" id=\"sk-estimator-id-1\" type=\"checkbox\" checked><label for=\"sk-estimator-id-1\" class=\"sk-toggleable__label fitted sk-toggleable__label-arrow fitted\">&nbsp;&nbsp;RandomForestClassifier<a class=\"sk-estimator-doc-link fitted\" rel=\"noreferrer\" target=\"_blank\" href=\"https://scikit-learn.org/1.4/modules/generated/sklearn.ensemble.RandomForestClassifier.html\">?<span>Documentation for RandomForestClassifier</span></a><span class=\"sk-estimator-doc-link fitted\">i<span>Fitted</span></span></label><div class=\"sk-toggleable__content fitted\"><pre>RandomForestClassifier(max_depth=15, min_samples_split=10, n_estimators=50)</pre></div> </div></div></div></div>"
            ],
            "text/plain": [
              "RandomForestClassifier(max_depth=15, min_samples_split=10, n_estimators=50)"
            ]
          },
          "execution_count": 5,
          "metadata": {},
          "output_type": "execute_result"
        }
      ],
      "source": [
        "# Select one of the below classifiers.\n",
        "# clf = XGBClassifier(min_child_weight=0.5, max_depth=3, gamma=0.2)\n",
        "# clf = LogisticRegression(C=10)\n",
        "# clf = DecisionTreeClassifier(max_depth=10, min_samples_split=5)\n",
        "clf = RandomForestClassifier(max_depth=15, min_samples_split=10, n_estimators=50)\n",
        "\n",
        "# Fit the classifier.\n",
        "clf.fit(X_train_ohe, Y_train)"
      ]
    },
    {
      "cell_type": "markdown",
      "metadata": {},
      "source": [
        "### Definir el predictor (caja negra)"
      ]
    },
    {
      "cell_type": "markdown",
      "metadata": {},
      "source": [
        "Ahora que hemos entrenado al clasificador, podemos definir el modelo de caja negra. A tener en cuenta que la salida de la caja negra es una distribución que puede ser una distribución de etiqueta suave (probabilidades/logits para cada clase) o una distribución de etiqueta dura (codificación one-hot). Internamente, **CFRL** toma el `argmax`. Además, la salida **NO TIENE QUE SER DIFERENCIABLE**."
      ]
    },
    {
      "cell_type": "markdown",
      "metadata": {},
      "source": [
        "Definimos una función de predicción llamada **predictor**, que toma un conjunto de datos como entrada (x), lo preprocesa utilizando el preprocesador definido anteriormente y luego utiliza el clasificador entrenado (**clf**) para predecir las probabilidades de pertenencia a cada clase para cada instancia en el conjunto de datos de entrada"
      ]
    },
    {
      "cell_type": "code",
      "execution_count": 6,
      "metadata": {},
      "outputs": [],
      "source": [
        "# Define prediction function.\n",
        "predictor = lambda x: clf.predict_proba(preprocessor.transform(x))"
      ]
    },
    {
      "cell_type": "markdown",
      "metadata": {},
      "source": [
        "Calculamos su accuracy:"
      ]
    },
    {
      "cell_type": "code",
      "execution_count": 7,
      "metadata": {},
      "outputs": [
        {
          "name": "stdout",
          "output_type": "stream",
          "text": [
            "Accuracy: 0.864\n"
          ]
        }
      ],
      "source": [
        "# Compute accuracy.\n",
        "acc = accuracy_score(y_true=Y_test, y_pred=predictor(X_test).argmax(axis=1))\n",
        "print(\"Accuracy: %.3f\" % acc)"
      ]
    },
    {
      "cell_type": "markdown",
      "metadata": {},
      "source": [
        "Observamos un accuracy del 86.4%."
      ]
    },
    {
      "cell_type": "markdown",
      "metadata": {},
      "source": [
        "### Definir y entrenar el codificador automático"
      ]
    },
    {
      "cell_type": "markdown",
      "metadata": {},
      "source": [
        "En lugar de modelar directamente el vector de perturbación en el espacio de entrada potencialmente de alta dimensión, primero entrenamos un codificador automático. Los pesos del codificador se congelan y el actor aplica las perturbaciones contrafácticas en el espacio latente del codificador. El decodificador previamente entrenado mapea la incorporación contrafactual al espacio de características de entrada.\n",
        "\n",
        "El codificador automático sigue un diseño estándar. El modelo se compone de dos submódulos, el codificador(encoder) y el decodificador(decoder). El pase directo consiste en pasar la entrada al codificador, obtener la incrustación de la entrada y pasar la incrustación a través del decodificador."
      ]
    },
    {
      "cell_type": "code",
      "execution_count": 8,
      "metadata": {},
      "outputs": [],
      "source": [
        "class HeAE(keras.Model):\n",
        "    def __init__(self, encoder: keras.Model, decoder: keras.Model, **kwargs) -> None:\n",
        "        super().__init__(**kwargs)\n",
        "        self.encoder = encoder\n",
        "        self.decoder = decoder\n",
        "\n",
        "    def call(self, x: tf.Tensor, **kwargs):\n",
        "        z = self.encoder(x)\n",
        "        x_hat = self.decoder(z)\n",
        "        return x_hat"
      ]
    },
    {
      "cell_type": "markdown",
      "metadata": {},
      "source": [
        "La variante heterogénea utilizada en este ejemplo utiliza una verificación de tipo adicional para garantizar que la salida del decodificador sea una lista de tensores.\n",
        "\n",
        "Los conjuntos de datos heterogéneos requieren un tratamiento especial. En este trabajo modelamos las características numéricas mediante distribuciones normales con desviación estándar constante y las características categóricas mediante distribuciones categóricas. Debido a la elección del modelado de características, algunas características numéricas pueden terminar teniendo tipos diferentes a las características numéricas originales. Por ejemplo, una característica como Agetener el tipo de intpuede convertirse en una característica floatdebido a la reconstrucción del codificador automático (p. ej., ). Este comportamiento puede ser indeseable. Por lo tanto, realizamos la conversión cuando procesamos la salida del codificador automático (componente decodificador). ***Age***=26 -> ***Age***=26.3"
      ]
    },
    {
      "cell_type": "code",
      "execution_count": 9,
      "metadata": {},
      "outputs": [],
      "source": [
        "# Define attribute types, required for datatype conversion.\n",
        "feature_types = {\"Age\": int, \"Capital Gain\": int, \"Capital Loss\": int, \"Hours per week\": int}\n",
        "\n",
        "# Define data preprocessor and inverse preprocessor. The invers preprocessor include datatype conversions.\n",
        "heae_preprocessor, heae_inv_preprocessor = get_he_preprocessor(X=X_train,\n",
        "                                                               feature_names=adult.feature_names,\n",
        "                                                               category_map=adult.category_map,\n",
        "                                                               feature_types=feature_types)\n",
        "\n",
        "# Define trainset\n",
        "trainset_input = heae_preprocessor(X_train).astype(np.float32)\n",
        "trainset_outputs = {\n",
        "    \"output_1\": trainset_input[:, :len(numerical_ids)]\n",
        "}\n",
        "\n",
        "for i, cat_id in enumerate(categorical_ids):\n",
        "    trainset_outputs.update({\n",
        "        f\"output_{i+2}\": X_train[:, cat_id]\n",
        "    })\n",
        "\n",
        "trainset = tf.data.Dataset.from_tensor_slices((trainset_input, trainset_outputs))\n",
        "trainset = trainset.shuffle(1024).batch(128, drop_remainder=True)"
      ]
    },
    {
      "cell_type": "code",
      "execution_count": 10,
      "metadata": {},
      "outputs": [],
      "source": [
        "# Define autoencoder path and create dir if it doesn't exist.\n",
        "heae_path = os.path.join(\"tensorflow\", \"ADULT_autoencoder\")\n",
        "if not os.path.exists(heae_path):\n",
        "    os.makedirs(heae_path)\n",
        "\n",
        "# Define constants.\n",
        "EPOCHS = 50              # epochs to train the autoencoder\n",
        "HIDDEN_DIM = 128         # hidden dimension of the autoencoder\n",
        "LATENT_DIM = 15          # define latent dimension\n",
        "\n",
        "# Define output dimensions.\n",
        "OUTPUT_DIMS = [len(numerical_ids)]\n",
        "OUTPUT_DIMS += [len(adult.category_map[cat_id]) for cat_id in categorical_ids]\n",
        "\n",
        "# Define the heterogeneous auto-encoder.\n",
        "heae = HeAE(encoder=ADULTEncoder(hidden_dim=HIDDEN_DIM, latent_dim=LATENT_DIM),\n",
        "            decoder=ADULTDecoder(hidden_dim=HIDDEN_DIM, output_dims=OUTPUT_DIMS))\n",
        "\n",
        "# Define loss functions.\n",
        "he_loss = [keras.losses.MeanSquaredError()]\n",
        "he_loss_weights = [1.]\n",
        "\n",
        "# Add categorical losses.\n",
        "for i in range(len(categorical_names)):\n",
        "    he_loss.append(keras.losses.SparseCategoricalCrossentropy(from_logits=True))\n",
        "    he_loss_weights.append(1./len(categorical_names))\n",
        "\n",
        "# Define metrics.\n",
        "metrics = {}\n",
        "for i, cat_name in enumerate(categorical_names):\n",
        "    metrics.update({f\"output_{i+2}\": keras.metrics.SparseCategoricalAccuracy()})\n",
        "\n",
        "# Compile model.\n",
        "heae.compile(optimizer=keras.optimizers.Adam(learning_rate=1e-3),\n",
        "             loss=he_loss,\n",
        "             loss_weights=he_loss_weights,\n",
        "             metrics=metrics)\n",
        "\n",
        "if len(os.listdir(heae_path)) == 0:\n",
        "    # Fit and save autoencoder.\n",
        "    heae.fit(trainset, epochs=EPOCHS)\n",
        "    heae.save(heae_path, save_format=\"tf\")\n",
        "else:\n",
        "    # Load the model.\n",
        "    heae = keras.models.load_model(heae_path, compile=False)"
      ]
    },
    {
      "cell_type": "markdown",
      "metadata": {},
      "source": [
        "### Contrafactual con aprendizaje por refuerzo"
      ]
    },
    {
      "cell_type": "markdown",
      "metadata": {},
      "source": [
        "Se van a definir a continuación diferentes constantes, vamos a adentrarnos un poco más en la comprensión de estas:\n",
        "\n",
        "-`COEFF_SPARSITY`: controla la importancia de la regularización por esparcidad durante el entrenamiento del modelo, que ayuda a que las activaciones de las neuronas sean dispersas, lo que puede mejorar la capacidad de generalización del modelo y prevenir el sobreajuste.\n",
        "\n",
        "-`COEFF_CONSISTENCY`: controla la importancia de la consistencia en la reconstrucción durante el entrenamiento del autoencoder, capacidad del autoencoder para reconstruir fielmente los datos de entrada. Controlar esta consistencia puede ayudar a mejorar la calidad de la reconstrucción y, en última instancia, la capacidad del autoencoder para capturar las características importantes de los datos.\n",
        "\n",
        "-`TRAIN_STEPS`: número de pasos de entrenamiento que se realizarán durante el entrenamiento del modelo. Cuantos más pasos de entrenamiento se realicen, más oportunidades tiene el modelo de ajustarse a los datos de entrenamiento. Aumentar este valor puede conducir a un mejor rendimiento del modelo, pero también puede aumentar el tiempo de entrenamiento.\n",
        "\n",
        "-`BATCH_SIZE`: tamaño del lote utilizado durante el entrenamiento, que determina cuántas muestras se procesan simultáneamente antes de actualizar los pesos del modelo. Un tamaño de lote más grande puede acelerar el entrenamiento y mejorar la estabilidad del gradiente, pero también puede requerir más memoria y tiempo de cómputo."
      ]
    },
    {
      "cell_type": "code",
      "execution_count": 11,
      "metadata": {},
      "outputs": [],
      "source": [
        "# Define constants\n",
        "COEFF_SPARSITY = 0.5               # sparisty coefficient\n",
        "COEFF_CONSISTENCY = 0.5            # consisteny coefficient\n",
        "TRAIN_STEPS = 10000                # number of training steps -> consider increasing the number of steps\n",
        "BATCH_SIZE = 100                   # batch size"
      ]
    },
    {
      "cell_type": "markdown",
      "metadata": {},
      "source": [
        "#### Definir atributos y restricciones específicos del conjunto de datos.\n",
        "\n",
        "Una propiedad deseable de un método para generar contrafactuales es permitir el condicionamiento de características. Los conjuntos de datos del mundo real suelen incluir características inmutables como ***Sex*** o ***Race***, que deben permanecer sin cambios durante todo el procedimiento de búsqueda contrafactual. De manera similar, una característica numérica como ***Age*** solo debería aumentar para que un contrafactual sea procesable.\n",
        "\n",
        "Vamos a definir cuales son estas características inmutables y rangos para la característica ***Age***, para que no pueda decrecer."
      ]
    },
    {
      "cell_type": "code",
      "execution_count": 12,
      "metadata": {},
      "outputs": [],
      "source": [
        "# Define immutable features.\n",
        "immutable_features = ['Marital Status', 'Relationship', 'Race', 'Sex']\n",
        "\n",
        "# Define ranges. This means that the `Age` feature can not decrease.\n",
        "ranges = {'Age': [0.0, 1.0]}"
      ]
    },
    {
      "cell_type": "markdown",
      "metadata": {},
      "source": [
        "Creamos un explicador de contrafactuales utilizando la clase `CounterfactualRLTabular`."
      ]
    },
    {
      "cell_type": "code",
      "execution_count": 13,
      "metadata": {},
      "outputs": [],
      "source": [
        "explainer = CounterfactualRLTabular(predictor=predictor,\n",
        "                                    encoder=heae.encoder,\n",
        "                                    decoder=heae.decoder,\n",
        "                                    latent_dim=LATENT_DIM,\n",
        "                                    encoder_preprocessor=heae_preprocessor,\n",
        "                                    decoder_inv_preprocessor=heae_inv_preprocessor,\n",
        "                                    coeff_sparsity=COEFF_SPARSITY,\n",
        "                                    coeff_consistency=COEFF_CONSISTENCY,\n",
        "                                    category_map=adult.category_map,\n",
        "                                    feature_names=adult.feature_names,\n",
        "                                    ranges=ranges,\n",
        "                                    immutable_features=immutable_features,\n",
        "                                    train_steps=TRAIN_STEPS,\n",
        "                                    batch_size=BATCH_SIZE,\n",
        "                                    backend=\"tensorflow\")"
      ]
    },
    {
      "cell_type": "markdown",
      "metadata": {},
      "source": [
        "Lo entrenamos con el conjunto de entrenamiento."
      ]
    },
    {
      "cell_type": "code",
      "execution_count": 14,
      "metadata": {},
      "outputs": [
        {
          "name": "stderr",
          "output_type": "stream",
          "text": [
            "100%|██████████| 10000/10000 [04:42<00:00, 35.40it/s]\n"
          ]
        }
      ],
      "source": [
        "# Fit the explainer.\n",
        "explainer = explainer.fit(X=X_train)"
      ]
    },
    {
      "cell_type": "markdown",
      "metadata": {},
      "source": [
        "### Explicador de prueba\n",
        "\n",
        "Seleccionamos algunos ejemplos positivos del conjunto de datos de prueba basándonos en las predicciones del modelo. Luego, seleccionamos los primeros 1000 ejemplos positivos y establecemos sus etiquetas objetivo como 0. Además, definimos las restricciones para la generación de contrafactuales, limitando la edad entre 0 y 20 años y restringiendo las opciones de clase de trabajo a *\"State-gov\"*, *\"?\"* y *\"Local-gov\"*."
      ]
    },
    {
      "cell_type": "code",
      "execution_count": 15,
      "metadata": {},
      "outputs": [],
      "source": [
        "# Select some positive examples.\n",
        "X_positive = X_test[np.argmax(predictor(X_test), axis=1) == 1]\n",
        "\n",
        "X = X_positive[:1000]\n",
        "Y_t = np.array([0])\n",
        "C = [{\"Age\": [0, 20], \"Workclass\": [\"State-gov\", \"?\", \"Local-gov\"]}]"
      ]
    },
    {
      "cell_type": "markdown",
      "metadata": {},
      "source": [
        "Generamos instancias contrafactuales utilizando el explicador explainer para los ejemplos X con las etiquetas objetivo Y_t y las restricciones C."
      ]
    },
    {
      "cell_type": "code",
      "execution_count": 16,
      "metadata": {},
      "outputs": [
        {
          "name": "stderr",
          "output_type": "stream",
          "text": [
            "100%|██████████| 10/10 [00:00<00:00, 66.52it/s]\n"
          ]
        }
      ],
      "source": [
        "# Generate counterfactual instances.\n",
        "explanation = explainer.explain(X, Y_t, C)"
      ]
    },
    {
      "cell_type": "markdown",
      "metadata": {},
      "source": [
        "Concatenamos las etiquetas a las instancias originales y a las instancias contrafactuales generadas. Definimos nuevos nombres de características y un nuevo mapa de categorías que incluyen la etiqueta. Posteriormente, reemplazamos las codificaciones de las etiquetas con cadenas de texto para facilitar la interpretación de los resultados. Finalmente, creamos DataFrames con las instancias originales y contrafactuales."
      ]
    },
    {
      "cell_type": "code",
      "execution_count": 17,
      "metadata": {},
      "outputs": [],
      "source": [
        "# Concat labels to the original instances.\n",
        "orig = np.concatenate(\n",
        "    [explanation.data['orig']['X'], explanation.data['orig']['class']],\n",
        "    axis=1\n",
        ")\n",
        "\n",
        "# Concat labels to the counterfactual instances.\n",
        "cf = np.concatenate(\n",
        "    [explanation.data['cf']['X'], explanation.data['cf']['class']],\n",
        "    axis=1\n",
        ")\n",
        "\n",
        "# Define new feature names and category map by including the label.\n",
        "feature_names = adult.feature_names + [\"Label\"]\n",
        "category_map = deepcopy(adult.category_map)\n",
        "category_map.update({feature_names.index(\"Label\"): adult.target_names})\n",
        "\n",
        "# Replace label encodings with strings.\n",
        "orig_pd = pd.DataFrame(\n",
        "    apply_category_mapping(orig, category_map),\n",
        "    columns=feature_names\n",
        ")\n",
        "\n",
        "cf_pd = pd.DataFrame(\n",
        "    apply_category_mapping(cf, category_map),\n",
        "    columns=feature_names\n",
        ")"
      ]
    },
    {
      "cell_type": "code",
      "execution_count": 18,
      "metadata": {},
      "outputs": [
        {
          "data": {
            "text/html": [
              "<div>\n",
              "<style scoped>\n",
              "    .dataframe tbody tr th:only-of-type {\n",
              "        vertical-align: middle;\n",
              "    }\n",
              "\n",
              "    .dataframe tbody tr th {\n",
              "        vertical-align: top;\n",
              "    }\n",
              "\n",
              "    .dataframe thead th {\n",
              "        text-align: right;\n",
              "    }\n",
              "</style>\n",
              "<table border=\"1\" class=\"dataframe\">\n",
              "  <thead>\n",
              "    <tr style=\"text-align: right;\">\n",
              "      <th></th>\n",
              "      <th>Age</th>\n",
              "      <th>Workclass</th>\n",
              "      <th>Education</th>\n",
              "      <th>Marital Status</th>\n",
              "      <th>Occupation</th>\n",
              "      <th>Relationship</th>\n",
              "      <th>Race</th>\n",
              "      <th>Sex</th>\n",
              "      <th>Capital Gain</th>\n",
              "      <th>Capital Loss</th>\n",
              "      <th>Hours per week</th>\n",
              "      <th>Country</th>\n",
              "      <th>Label</th>\n",
              "    </tr>\n",
              "  </thead>\n",
              "  <tbody>\n",
              "    <tr>\n",
              "      <th>0</th>\n",
              "      <td>60</td>\n",
              "      <td>State-gov</td>\n",
              "      <td>High School grad</td>\n",
              "      <td>Married</td>\n",
              "      <td>Blue-Collar</td>\n",
              "      <td>Husband</td>\n",
              "      <td>White</td>\n",
              "      <td>Male</td>\n",
              "      <td>1355</td>\n",
              "      <td>0</td>\n",
              "      <td>40</td>\n",
              "      <td>United-States</td>\n",
              "      <td>&lt;=50K</td>\n",
              "    </tr>\n",
              "    <tr>\n",
              "      <th>1</th>\n",
              "      <td>36</td>\n",
              "      <td>?</td>\n",
              "      <td>High School grad</td>\n",
              "      <td>Married</td>\n",
              "      <td>?</td>\n",
              "      <td>Husband</td>\n",
              "      <td>White</td>\n",
              "      <td>Male</td>\n",
              "      <td>2435</td>\n",
              "      <td>0</td>\n",
              "      <td>50</td>\n",
              "      <td>United-States</td>\n",
              "      <td>&lt;=50K</td>\n",
              "    </tr>\n",
              "    <tr>\n",
              "      <th>2</th>\n",
              "      <td>39</td>\n",
              "      <td>?</td>\n",
              "      <td>High School grad</td>\n",
              "      <td>Married</td>\n",
              "      <td>?</td>\n",
              "      <td>Wife</td>\n",
              "      <td>White</td>\n",
              "      <td>Female</td>\n",
              "      <td>1317</td>\n",
              "      <td>0</td>\n",
              "      <td>38</td>\n",
              "      <td>United-States</td>\n",
              "      <td>&lt;=50K</td>\n",
              "    </tr>\n",
              "    <tr>\n",
              "      <th>3</th>\n",
              "      <td>44</td>\n",
              "      <td>?</td>\n",
              "      <td>High School grad</td>\n",
              "      <td>Married</td>\n",
              "      <td>Sales</td>\n",
              "      <td>Husband</td>\n",
              "      <td>White</td>\n",
              "      <td>Male</td>\n",
              "      <td>0</td>\n",
              "      <td>16</td>\n",
              "      <td>51</td>\n",
              "      <td>United-States</td>\n",
              "      <td>&lt;=50K</td>\n",
              "    </tr>\n",
              "    <tr>\n",
              "      <th>4</th>\n",
              "      <td>44</td>\n",
              "      <td>?</td>\n",
              "      <td>High School grad</td>\n",
              "      <td>Married</td>\n",
              "      <td>?</td>\n",
              "      <td>Husband</td>\n",
              "      <td>White</td>\n",
              "      <td>Male</td>\n",
              "      <td>0</td>\n",
              "      <td>0</td>\n",
              "      <td>40</td>\n",
              "      <td>United-States</td>\n",
              "      <td>&lt;=50K</td>\n",
              "    </tr>\n",
              "    <tr>\n",
              "      <th>5</th>\n",
              "      <td>39</td>\n",
              "      <td>Private</td>\n",
              "      <td>Bachelors</td>\n",
              "      <td>Separated</td>\n",
              "      <td>White-Collar</td>\n",
              "      <td>Not-in-family</td>\n",
              "      <td>White</td>\n",
              "      <td>Female</td>\n",
              "      <td>2229</td>\n",
              "      <td>0</td>\n",
              "      <td>50</td>\n",
              "      <td>United-States</td>\n",
              "      <td>&lt;=50K</td>\n",
              "    </tr>\n",
              "    <tr>\n",
              "      <th>6</th>\n",
              "      <td>45</td>\n",
              "      <td>?</td>\n",
              "      <td>High School grad</td>\n",
              "      <td>Married</td>\n",
              "      <td>?</td>\n",
              "      <td>Husband</td>\n",
              "      <td>White</td>\n",
              "      <td>Male</td>\n",
              "      <td>0</td>\n",
              "      <td>1823</td>\n",
              "      <td>41</td>\n",
              "      <td>Latin-America</td>\n",
              "      <td>&lt;=50K</td>\n",
              "    </tr>\n",
              "    <tr>\n",
              "      <th>7</th>\n",
              "      <td>51</td>\n",
              "      <td>?</td>\n",
              "      <td>High School grad</td>\n",
              "      <td>Married</td>\n",
              "      <td>?</td>\n",
              "      <td>Husband</td>\n",
              "      <td>White</td>\n",
              "      <td>Male</td>\n",
              "      <td>0</td>\n",
              "      <td>0</td>\n",
              "      <td>50</td>\n",
              "      <td>United-States</td>\n",
              "      <td>&lt;=50K</td>\n",
              "    </tr>\n",
              "    <tr>\n",
              "      <th>8</th>\n",
              "      <td>29</td>\n",
              "      <td>?</td>\n",
              "      <td>High School grad</td>\n",
              "      <td>Married</td>\n",
              "      <td>Service</td>\n",
              "      <td>Wife</td>\n",
              "      <td>White</td>\n",
              "      <td>Female</td>\n",
              "      <td>0</td>\n",
              "      <td>0</td>\n",
              "      <td>48</td>\n",
              "      <td>United-States</td>\n",
              "      <td>&lt;=50K</td>\n",
              "    </tr>\n",
              "    <tr>\n",
              "      <th>9</th>\n",
              "      <td>48</td>\n",
              "      <td>?</td>\n",
              "      <td>High School grad</td>\n",
              "      <td>Married</td>\n",
              "      <td>?</td>\n",
              "      <td>Husband</td>\n",
              "      <td>White</td>\n",
              "      <td>Male</td>\n",
              "      <td>0</td>\n",
              "      <td>0</td>\n",
              "      <td>50</td>\n",
              "      <td>United-States</td>\n",
              "      <td>&lt;=50K</td>\n",
              "    </tr>\n",
              "  </tbody>\n",
              "</table>\n",
              "</div>"
            ],
            "text/plain": [
              "  Age  Workclass         Education Marital Status    Occupation  \\\n",
              "0  60  State-gov  High School grad        Married   Blue-Collar   \n",
              "1  36          ?  High School grad        Married             ?   \n",
              "2  39          ?  High School grad        Married             ?   \n",
              "3  44          ?  High School grad        Married         Sales   \n",
              "4  44          ?  High School grad        Married             ?   \n",
              "5  39    Private         Bachelors      Separated  White-Collar   \n",
              "6  45          ?  High School grad        Married             ?   \n",
              "7  51          ?  High School grad        Married             ?   \n",
              "8  29          ?  High School grad        Married       Service   \n",
              "9  48          ?  High School grad        Married             ?   \n",
              "\n",
              "    Relationship   Race     Sex Capital Gain Capital Loss Hours per week  \\\n",
              "0        Husband  White    Male         1355            0             40   \n",
              "1        Husband  White    Male         2435            0             50   \n",
              "2           Wife  White  Female         1317            0             38   \n",
              "3        Husband  White    Male            0           16             51   \n",
              "4        Husband  White    Male            0            0             40   \n",
              "5  Not-in-family  White  Female         2229            0             50   \n",
              "6        Husband  White    Male            0         1823             41   \n",
              "7        Husband  White    Male            0            0             50   \n",
              "8           Wife  White  Female            0            0             48   \n",
              "9        Husband  White    Male            0            0             50   \n",
              "\n",
              "         Country  Label  \n",
              "0  United-States  <=50K  \n",
              "1  United-States  <=50K  \n",
              "2  United-States  <=50K  \n",
              "3  United-States  <=50K  \n",
              "4  United-States  <=50K  \n",
              "5  United-States  <=50K  \n",
              "6  Latin-America  <=50K  \n",
              "7  United-States  <=50K  \n",
              "8  United-States  <=50K  \n",
              "9  United-States  <=50K  "
            ]
          },
          "execution_count": 18,
          "metadata": {},
          "output_type": "execute_result"
        }
      ],
      "source": [
        "cf_pd.head(n=10)"
      ]
    },
    {
      "cell_type": "markdown",
      "metadata": {},
      "source": [
        "### Diversidad"
      ]
    },
    {
      "cell_type": "markdown",
      "metadata": {},
      "source": [
        "Generamos una instancia contrafactual para un solo ejemplo positivo y lo remodelamos para que tenga la forma adecuada para el explicador. Luego, utilizamos el explicador para generar la explicación de la instancia contrafactual."
      ]
    },
    {
      "cell_type": "code",
      "execution_count": 19,
      "metadata": {},
      "outputs": [
        {
          "name": "stderr",
          "output_type": "stream",
          "text": [
            "11it [00:00, 55.10it/s]\n"
          ]
        }
      ],
      "source": [
        "# Generate counterfactual instances.\n",
        "X = X_positive[0].reshape(1, -1)\n",
        "explanation = explainer.explain(X=X, Y_t=Y_t, C=C, diversity=True, num_samples=100, batch_size=10)"
      ]
    },
    {
      "cell_type": "code",
      "execution_count": 20,
      "metadata": {},
      "outputs": [],
      "source": [
        "# Concat label column.\n",
        "orig = np.concatenate(\n",
        "    [explanation.data['orig']['X'], explanation.data['orig']['class']],\n",
        "    axis=1\n",
        ")\n",
        "\n",
        "cf = np.concatenate(\n",
        "    [explanation.data['cf']['X'], explanation.data['cf']['class']],\n",
        "    axis=1\n",
        ")\n",
        "\n",
        "# Transfrom label encodings to string.\n",
        "orig_pd = pd.DataFrame(\n",
        "    apply_category_mapping(orig, category_map),\n",
        "    columns=feature_names,\n",
        ")\n",
        "\n",
        "cf_pd = pd.DataFrame(\n",
        "    apply_category_mapping(cf, category_map),\n",
        "    columns=feature_names,\n",
        ")"
      ]
    },
    {
      "cell_type": "markdown",
      "metadata": {},
      "source": [
        "Mostramos las instancias originales (**orig_pd**) y las instancias contrafactuales generadas (**cf_pd**). "
      ]
    },
    {
      "cell_type": "code",
      "execution_count": 21,
      "metadata": {},
      "outputs": [
        {
          "data": {
            "text/html": [
              "<div>\n",
              "<style scoped>\n",
              "    .dataframe tbody tr th:only-of-type {\n",
              "        vertical-align: middle;\n",
              "    }\n",
              "\n",
              "    .dataframe tbody tr th {\n",
              "        vertical-align: top;\n",
              "    }\n",
              "\n",
              "    .dataframe thead th {\n",
              "        text-align: right;\n",
              "    }\n",
              "</style>\n",
              "<table border=\"1\" class=\"dataframe\">\n",
              "  <thead>\n",
              "    <tr style=\"text-align: right;\">\n",
              "      <th></th>\n",
              "      <th>Age</th>\n",
              "      <th>Workclass</th>\n",
              "      <th>Education</th>\n",
              "      <th>Marital Status</th>\n",
              "      <th>Occupation</th>\n",
              "      <th>Relationship</th>\n",
              "      <th>Race</th>\n",
              "      <th>Sex</th>\n",
              "      <th>Capital Gain</th>\n",
              "      <th>Capital Loss</th>\n",
              "      <th>Hours per week</th>\n",
              "      <th>Country</th>\n",
              "      <th>Label</th>\n",
              "    </tr>\n",
              "  </thead>\n",
              "  <tbody>\n",
              "    <tr>\n",
              "      <th>0</th>\n",
              "      <td>60</td>\n",
              "      <td>Private</td>\n",
              "      <td>High School grad</td>\n",
              "      <td>Married</td>\n",
              "      <td>Blue-Collar</td>\n",
              "      <td>Husband</td>\n",
              "      <td>White</td>\n",
              "      <td>Male</td>\n",
              "      <td>7298</td>\n",
              "      <td>0</td>\n",
              "      <td>40</td>\n",
              "      <td>United-States</td>\n",
              "      <td>&gt;50K</td>\n",
              "    </tr>\n",
              "  </tbody>\n",
              "</table>\n",
              "</div>"
            ],
            "text/plain": [
              "  Age Workclass         Education Marital Status   Occupation Relationship  \\\n",
              "0  60   Private  High School grad        Married  Blue-Collar      Husband   \n",
              "\n",
              "    Race   Sex Capital Gain Capital Loss Hours per week        Country Label  \n",
              "0  White  Male         7298            0             40  United-States  >50K  "
            ]
          },
          "execution_count": 21,
          "metadata": {},
          "output_type": "execute_result"
        }
      ],
      "source": [
        "orig_pd.head(n=5)"
      ]
    },
    {
      "cell_type": "code",
      "execution_count": 22,
      "metadata": {},
      "outputs": [
        {
          "data": {
            "text/html": [
              "<div>\n",
              "<style scoped>\n",
              "    .dataframe tbody tr th:only-of-type {\n",
              "        vertical-align: middle;\n",
              "    }\n",
              "\n",
              "    .dataframe tbody tr th {\n",
              "        vertical-align: top;\n",
              "    }\n",
              "\n",
              "    .dataframe thead th {\n",
              "        text-align: right;\n",
              "    }\n",
              "</style>\n",
              "<table border=\"1\" class=\"dataframe\">\n",
              "  <thead>\n",
              "    <tr style=\"text-align: right;\">\n",
              "      <th></th>\n",
              "      <th>Age</th>\n",
              "      <th>Workclass</th>\n",
              "      <th>Education</th>\n",
              "      <th>Marital Status</th>\n",
              "      <th>Occupation</th>\n",
              "      <th>Relationship</th>\n",
              "      <th>Race</th>\n",
              "      <th>Sex</th>\n",
              "      <th>Capital Gain</th>\n",
              "      <th>Capital Loss</th>\n",
              "      <th>Hours per week</th>\n",
              "      <th>Country</th>\n",
              "      <th>Label</th>\n",
              "    </tr>\n",
              "  </thead>\n",
              "  <tbody>\n",
              "    <tr>\n",
              "      <th>0</th>\n",
              "      <td>60</td>\n",
              "      <td>?</td>\n",
              "      <td>High School grad</td>\n",
              "      <td>Married</td>\n",
              "      <td>?</td>\n",
              "      <td>Husband</td>\n",
              "      <td>White</td>\n",
              "      <td>Male</td>\n",
              "      <td>1312</td>\n",
              "      <td>0</td>\n",
              "      <td>40</td>\n",
              "      <td>United-States</td>\n",
              "      <td>&lt;=50K</td>\n",
              "    </tr>\n",
              "    <tr>\n",
              "      <th>1</th>\n",
              "      <td>60</td>\n",
              "      <td>?</td>\n",
              "      <td>High School grad</td>\n",
              "      <td>Married</td>\n",
              "      <td>?</td>\n",
              "      <td>Husband</td>\n",
              "      <td>White</td>\n",
              "      <td>Male</td>\n",
              "      <td>1358</td>\n",
              "      <td>0</td>\n",
              "      <td>40</td>\n",
              "      <td>United-States</td>\n",
              "      <td>&lt;=50K</td>\n",
              "    </tr>\n",
              "    <tr>\n",
              "      <th>2</th>\n",
              "      <td>60</td>\n",
              "      <td>?</td>\n",
              "      <td>High School grad</td>\n",
              "      <td>Married</td>\n",
              "      <td>Blue-Collar</td>\n",
              "      <td>Husband</td>\n",
              "      <td>White</td>\n",
              "      <td>Male</td>\n",
              "      <td>1087</td>\n",
              "      <td>0</td>\n",
              "      <td>40</td>\n",
              "      <td>United-States</td>\n",
              "      <td>&lt;=50K</td>\n",
              "    </tr>\n",
              "    <tr>\n",
              "      <th>3</th>\n",
              "      <td>60</td>\n",
              "      <td>?</td>\n",
              "      <td>High School grad</td>\n",
              "      <td>Married</td>\n",
              "      <td>Blue-Collar</td>\n",
              "      <td>Husband</td>\n",
              "      <td>White</td>\n",
              "      <td>Male</td>\n",
              "      <td>1116</td>\n",
              "      <td>0</td>\n",
              "      <td>40</td>\n",
              "      <td>United-States</td>\n",
              "      <td>&lt;=50K</td>\n",
              "    </tr>\n",
              "    <tr>\n",
              "      <th>4</th>\n",
              "      <td>60</td>\n",
              "      <td>?</td>\n",
              "      <td>High School grad</td>\n",
              "      <td>Married</td>\n",
              "      <td>Blue-Collar</td>\n",
              "      <td>Husband</td>\n",
              "      <td>White</td>\n",
              "      <td>Male</td>\n",
              "      <td>1150</td>\n",
              "      <td>0</td>\n",
              "      <td>40</td>\n",
              "      <td>United-States</td>\n",
              "      <td>&lt;=50K</td>\n",
              "    </tr>\n",
              "  </tbody>\n",
              "</table>\n",
              "</div>"
            ],
            "text/plain": [
              "  Age Workclass         Education Marital Status   Occupation Relationship  \\\n",
              "0  60         ?  High School grad        Married            ?      Husband   \n",
              "1  60         ?  High School grad        Married            ?      Husband   \n",
              "2  60         ?  High School grad        Married  Blue-Collar      Husband   \n",
              "3  60         ?  High School grad        Married  Blue-Collar      Husband   \n",
              "4  60         ?  High School grad        Married  Blue-Collar      Husband   \n",
              "\n",
              "    Race   Sex Capital Gain Capital Loss Hours per week        Country  Label  \n",
              "0  White  Male         1312            0             40  United-States  <=50K  \n",
              "1  White  Male         1358            0             40  United-States  <=50K  \n",
              "2  White  Male         1087            0             40  United-States  <=50K  \n",
              "3  White  Male         1116            0             40  United-States  <=50K  \n",
              "4  White  Male         1150            0             40  United-States  <=50K  "
            ]
          },
          "execution_count": 22,
          "metadata": {},
          "output_type": "execute_result"
        }
      ],
      "source": [
        "cf_pd.head(n=5)"
      ]
    },
    {
      "cell_type": "markdown",
      "metadata": {},
      "source": [
        "Estos conjuntos de datos representan instancias originales y sus respectivas instancias contrafactuales, donde se han realizado cambios en algunas características mientras se mantienen otras constantes. Concretamente, lo que nos llama más la atención es lo siguiente:\n",
        "\n",
        "- **Aparecen valores imputados**. Cuando observamos en conjunto de datos contrafactual, algunos valores han sido imputados o modificados, por ejemplo, en la columna ***Workclass*** los valores originales son específicos (*\"Private\"* para el primer registro), mientras que en el conjunto de datos contrafactual, estos valores han sido reemplazados por un signo de interrogación (*\"?\"*). Esto también ocurre en algunas de las entradas de la variable ***Occupation***.\n",
        "\n",
        "- **Observamos cambios en algunas variables**. Por ejemplo, en todos los registros del conjunto de datos contrafactual se observan cambios en la columna ***Capital Gain*** en comparación con el registro original.\n",
        "\n",
        "- **Consistencia en algunas características**. Aunque se han realizado cambios en algunas características, otras parecen permanecer consistentes. Por ejemplo, las columnas ***Age***, ***Education***, ***Marital Status***, ***Relationship***, ***Race***, ***Sex***, ***Hours per week***, y ***Country*** parecen no haber sido modificadas entre los conjuntos de datos original y contrafactual observados."
      ]
    },
    {
      "cell_type": "markdown",
      "metadata": {},
      "source": [
        "## **2. Contrafactuales con aprendizaje por refuerzo en MNIST**"
      ]
    },
    {
      "cell_type": "markdown",
      "metadata": {},
      "source": [
        "### Cargar conjunto de datos MNIST\n",
        "\n",
        "El conjunto de datos MNIST contiene un conjunto de entrenamiento de 60.000 imágenes en escala de grises de 28x28 de 10 dígitos, junto con un conjunto de prueba de 10.000 imágenes.\n",
        "\n",
        "Los dígitos representados varían entre el 0 y el 9, por lo que tendremos solamente representaciones de estos."
      ]
    },
    {
      "cell_type": "markdown",
      "metadata": {},
      "source": [
        "Definimos las constantes `BATCH_SIZE` y `BUFFER_SIZE` con valores 64 y 1024, respectivamente. Cargamos el conjunto de datos MNIST, expandiendo las dimensiones de las imágenes y normalizándolas. Finalmente, creamos un conjunto de entrenamiento (**trainset_classifier**) y un conjunto de prueba (**testset_classifier**), ambos mezclados y agrupados en lotes de tamaño `BATCH_SIZE`.\n"
      ]
    },
    {
      "cell_type": "code",
      "execution_count": 6,
      "metadata": {},
      "outputs": [],
      "source": [
        "# Define constants.\n",
        "BATCH_SIZE = 64\n",
        "BUFFER_SIZE = 1024\n",
        "\n",
        "# Load MNIST dataset.\n",
        "(X_train, Y_train), (X_test, Y_test) = tf.keras.datasets.mnist.load_data()\n",
        "\n",
        "# Expand dimensions and normalize.\n",
        "X_train = np.expand_dims(X_train, axis=-1).astype(np.float32) / 255.\n",
        "X_test = np.expand_dims(X_test, axis=-1).astype(np.float32) / 255.\n",
        "\n",
        "# Define trainset.\n",
        "trainset_classifier = tf.data.Dataset.from_tensor_slices((X_train, Y_train))\n",
        "trainset_classifier = trainset_classifier.shuffle(buffer_size=BUFFER_SIZE).batch(BATCH_SIZE)\n",
        "\n",
        "# Define testset.\n",
        "testset_classifier = tf.data.Dataset.from_tensor_slices((X_test, Y_test))\n",
        "testset_classifier = testset_classifier.shuffle(buffer_size=BUFFER_SIZE).batch(BATCH_SIZE)"
      ]
    },
    {
      "cell_type": "markdown",
      "metadata": {},
      "source": [
        "### Definir y entrenar el clasificador CNN"
      ]
    },
    {
      "cell_type": "markdown",
      "metadata": {},
      "source": [
        "Definimos un clasificador para datos de MNIST con 10 clases especificando la ruta para guardar el modelo y se creando el directorio si es necesario. El clasificador se compila con un optimizador `Adam` y la función de pérdida de `SparseCategoricalCrossentropy`."
      ]
    },
    {
      "cell_type": "code",
      "execution_count": 7,
      "metadata": {},
      "outputs": [],
      "source": [
        "# Number of classes.\n",
        "NUM_CLASSES = 10\n",
        "EPOCHS = 5\n",
        "\n",
        "# Define classifier path and create dir if it doesn't exist.\n",
        "classifier_path = os.path.join(\"tensorflow\", \"MNIST_classifier\")\n",
        "if not os.path.exists(classifier_path):\n",
        "    os.makedirs(classifier_path)\n",
        "\n",
        "# Construct classifier. This is the classifier used in the paper experiments.\n",
        "classifier = MNISTClassifier(output_dim=NUM_CLASSES)\n",
        "\n",
        "# Define optimizer and loss function\n",
        "optimizer = keras.optimizers.Adam(learning_rate=1e-3)\n",
        "loss = keras.losses.SparseCategoricalCrossentropy(from_logits=True)\n",
        "\n",
        "# Complile the model.\n",
        "classifier.compile(optimizer=optimizer,\n",
        "                   loss=loss,\n",
        "                   metrics=[tf.keras.metrics.SparseCategoricalAccuracy()])\n",
        "\n",
        "\n",
        "if len(os.listdir(classifier_path)) == 0:\n",
        "    # Fit and save the classifier.\n",
        "    classifier.fit(trainset_classifier, epochs=EPOCHS)\n",
        "    classifier.save(classifier_path)\n",
        "else:\n",
        "    # Load the classifier if already fitted.\n",
        "    classifier = keras.models.load_model(classifier_path)"
      ]
    },
    {
      "cell_type": "markdown",
      "metadata": {},
      "source": [
        "### Definir el predictor (caja negra)\n",
        "\n",
        "Ahora que hemos entrenado el clasificador CNN, podemos definir el modelo de caja negra. Tenga en cuenta que la salida de la caja negra es una distribución que puede ser una distribución de etiqueta suave (probabilidades/logits para cada clase) o una distribución de etiqueta dura (codificación one-hot). Internamente, CFRL toma el argmax. Además, la salida NO TIENE QUE SER DIFERENCIABLE ."
      ]
    },
    {
      "cell_type": "code",
      "execution_count": 8,
      "metadata": {},
      "outputs": [],
      "source": [
        "# Define predictor function (black-box) used to train the CFRL\n",
        "def predictor(X: np.ndarray):\n",
        "    Y = classifier(X).numpy()\n",
        "    return Y"
      ]
    },
    {
      "cell_type": "markdown",
      "metadata": {},
      "source": [
        "### Definir y entrenar el codificador automático\n",
        "\n",
        "En lugar de modelar directamente el vector de perturbación en el espacio de entrada potencialmente de alta dimensión, primero entrenamos un codificador automático. Los pesos del codificador se congelan y el actor aplica las perturbaciones contrafácticas en el espacio latente del codificador. El decodificador previamente entrenado mapea la incorporación contrafactual al espacio de características de entrada.\n",
        "\n",
        "El codificador automático sigue un diseño estándar. El modelo se compone de dos submódulos, el codificador y el decodificador. El pase directo consiste en pasar la entrada al codificador, obtener la incrustación de la entrada y pasar la incrustación a través del decodificador."
      ]
    },
    {
      "cell_type": "code",
      "execution_count": 9,
      "metadata": {},
      "outputs": [],
      "source": [
        "class AE(keras.Model):\n",
        "    def __init__(self, encoder: keras.Model, decoder: keras.Model, **kwargs) -> None:\n",
        "        super().__init__(**kwargs)\n",
        "        self.encoder = encoder\n",
        "        self.decoder = decoder\n",
        "\n",
        "    def call(self, x: tf.Tensor, **kwargs):\n",
        "        z = self.encoder(x)\n",
        "        x_hat = self.decoder(z)\n",
        "        return x_hat"
      ]
    },
    {
      "cell_type": "markdown",
      "metadata": {},
      "source": [
        "Definimos conjuntos de datos para el entrenamiento (**trainset_ae**) y prueba (**testset_ae**) del autoencoder, donde cada uno de ellos se crea a partir de los datos de entrada X_train y X_test, respectivamente. Además, se empareja cada muestra consigo misma y se realiza un mezclado y agrupamiento en lotes de tamaño `BATCH_SIZE`."
      ]
    },
    {
      "cell_type": "code",
      "execution_count": 10,
      "metadata": {},
      "outputs": [],
      "source": [
        "# Define autoencoder trainset.\n",
        "trainset_ae = tf.data.Dataset.from_tensor_slices(X_train)\n",
        "trainset_ae = trainset_ae.map(lambda x: (x, x))\n",
        "trainset_ae = trainset_ae.shuffle(buffer_size=BUFFER_SIZE).batch(BATCH_SIZE)\n",
        "\n",
        "# Define autoencode testset.\n",
        "testset_ae = tf.data.Dataset.from_tensor_slices(X_test)\n",
        "testset_ae = testset_ae.map(lambda x: (x, x))\n",
        "testset_ae = testset_ae.shuffle(buffer_size=BUFFER_SIZE).batch(BATCH_SIZE)"
      ]
    },
    {
      "cell_type": "markdown",
      "metadata": {},
      "source": [
        "Definimos un autoencoder especificando la ruta de guardado y creando el directorio si es necesario, junto con `LATENT_DIM` y `EPOCHS`. Luego, compilamos el modelo con un optimizador `Adam` y la función de pérdida de `BinaryCrossentropy`. Finalmente, ajustamos el autoencoder a los datos de entrenamiento, guardándolo si el directorio está vacío o cargando un modelo previamente guardado."
      ]
    },
    {
      "cell_type": "code",
      "execution_count": 11,
      "metadata": {},
      "outputs": [],
      "source": [
        "# Define autoencoder path and create dir if it doesn't exist.\n",
        "ae_path = os.path.join(\"tensorflow\", \"MNIST_autoencoder\")\n",
        "if not os.path.exists(ae_path):\n",
        "    os.makedirs(ae_path)\n",
        "\n",
        "# Define latent dimension.\n",
        "LATENT_DIM = 64\n",
        "EPOCHS = 50\n",
        "\n",
        "# Define autoencoder.\n",
        "ae = AE(encoder=MNISTEncoder(latent_dim=LATENT_DIM),\n",
        "        decoder=MNISTDecoder())\n",
        "\n",
        "# Define optimizer and loss function.\n",
        "optimizer = keras.optimizers.Adam(learning_rate=1e-3)\n",
        "loss = keras.losses.BinaryCrossentropy(from_logits=False)\n",
        "\n",
        "# Compile autoencoder.\n",
        "ae.compile(optimizer=optimizer, loss=loss)\n",
        "\n",
        "if len(os.listdir(ae_path)) == 0:\n",
        "    # Fit and save autoencoder.\n",
        "    ae.fit(trainset_ae, epochs=EPOCHS)\n",
        "    ae.save(ae_path)\n",
        "else:\n",
        "    # Load the model.\n",
        "    ae = keras.models.load_model(ae_path)"
      ]
    },
    {
      "cell_type": "markdown",
      "metadata": {},
      "source": [
        "### Prueba del codificador automático\n",
        "\n",
        "Definimos el número de muestras para ser mostradas (`NUM_SAMPLES`) y seleccionamos aleatoriamente algunas muestras de prueba (`X_test`). Luego, pasamos estas muestras a través del autoencoder (`ae`) y almacenamos las reconstrucciones en `inputs_hat`."
      ]
    },
    {
      "cell_type": "code",
      "execution_count": 12,
      "metadata": {},
      "outputs": [],
      "source": [
        "# Define number of samples to be displayed\n",
        "NUM_SAMPLES = 5\n",
        "\n",
        "# Get some random samples from test\n",
        "np.random.seed(0)\n",
        "indices = np.random.choice(X_test.shape[0], NUM_SAMPLES)\n",
        "inputs = [X_test[i].reshape(1, 28, 28, 1) for i in indices]\n",
        "inputs = np.concatenate(inputs, axis=0)\n",
        "\n",
        "# Pass samples through the autoencoder\n",
        "inputs_hat = ae(inputs).numpy()"
      ]
    },
    {
      "cell_type": "markdown",
      "metadata": {},
      "source": [
        "Visualizamos las muestras originales (`inputs`) y sus reconstrucciones (`inputs_hat`) generadas por el autoencoder. Creamos una figura con dos filas y un número de columnas igual al número de muestras (`NUM_SAMPLES`). Cada muestra original y su reconstrucción se muestran en una columna respectiva."
      ]
    },
    {
      "cell_type": "code",
      "execution_count": 13,
      "metadata": {},
      "outputs": [
        {
          "data": {
            "image/png": "[encoded data removed]",
            "text/plain": [
              "<Figure size 2500x1000 with 10 Axes>"
            ]
          },
          "metadata": {},
          "output_type": "display_data"
        }
      ],
      "source": [
        "import matplotlib.pyplot as plt \n",
        "# Plot inputs and reconstructions.\n",
        "plt.rcParams.update({'font.size': 22})\n",
        "fig, ax = plt.subplots(2, NUM_SAMPLES, figsize=(25, 10))\n",
        "\n",
        "for i in range(NUM_SAMPLES):\n",
        "    ax[0][i].imshow(inputs[i], cmap='gray')\n",
        "    ax[1][i].imshow(inputs_hat[i], cmap='gray')\n",
        "\n",
        "text1 = ax[0][0].set_ylabel(\"x\")\n",
        "text2 = ax[1][0].set_ylabel(\"x_hat\")"
      ]
    },
    {
      "cell_type": "markdown",
      "metadata": {},
      "source": [
        "### Contrafactual con aprendizaje por refuerzo"
      ]
    },
    {
      "cell_type": "markdown",
      "metadata": {},
      "source": [
        "Si queremos recordar la intuición que hay detrás de cada uno de estos coeficientes, será conveniente revisar el ejemplo de aplicación 1, donde estas fueron explicadas una a una."
      ]
    },
    {
      "cell_type": "code",
      "execution_count": 14,
      "metadata": {},
      "outputs": [],
      "source": [
        "# Define constants\n",
        "COEFF_SPARSITY = 7.5               # sparisty coefficient\n",
        "COEFF_CONSISTENCY = 0              # consisteny coefficient -> no consistency\n",
        "TRAIN_STEPS = 50000                # number of training steps -> consider increasing the number of steps\n",
        "BATCH_SIZE = 100                   # batch size"
      ]
    },
    {
      "cell_type": "markdown",
      "metadata": {},
      "source": [
        "### Definir y ajustar al explicador\n",
        "\n",
        "Definimos un explicador de contrafactuales utilizando la clase `CounterfactualRL`."
      ]
    },
    {
      "cell_type": "code",
      "execution_count": 15,
      "metadata": {},
      "outputs": [],
      "source": [
        "# Define explainer.\n",
        "explainer = CounterfactualRL(predictor=predictor,\n",
        "                             encoder=ae.encoder,\n",
        "                             decoder=ae.decoder,\n",
        "                             latent_dim=LATENT_DIM,\n",
        "                             coeff_sparsity=COEFF_SPARSITY,\n",
        "                             coeff_consistency=COEFF_CONSISTENCY,\n",
        "                             train_steps=TRAIN_STEPS,\n",
        "                             batch_size=BATCH_SIZE,\n",
        "                             backend=\"tensorflow\")"
      ]
    },
    {
      "cell_type": "markdown",
      "metadata": {},
      "source": [
        "Ajustamos el explicador a los datos de entrenamiento para generar explicaciones de contrafactuales."
      ]
    },
    {
      "cell_type": "code",
      "execution_count": 16,
      "metadata": {},
      "outputs": [
        {
          "name": "stderr",
          "output_type": "stream",
          "text": [
            "100%|██████████| 50000/50000 [1:14:20<00:00, 11.21it/s]\n"
          ]
        }
      ],
      "source": [
        "# Fit the explainer\n",
        "explainer = explainer.fit(X=X_train)"
      ]
    },
    {
      "cell_type": "markdown",
      "metadata": {},
      "source": [
        "### Explicador de prueba\n",
        "\n",
        "Generamos explicaciones de contrafactuales para una selección de instancias de prueba (X_test[0:200]) con la etiqueta objetivo especificada (Y_t=np.array([2])). Se realiza en lotes de tamaño 100."
      ]
    },
    {
      "cell_type": "code",
      "execution_count": 17,
      "metadata": {},
      "outputs": [
        {
          "name": "stderr",
          "output_type": "stream",
          "text": [
            "100%|██████████| 2/2 [00:00<00:00, 21.15it/s]\n"
          ]
        }
      ],
      "source": [
        "# Generate counterfactuals for some test instances.\n",
        "explanation = explainer.explain(X_test[0:200], Y_t=np.array([2]), batch_size=100)"
      ]
    },
    {
      "cell_type": "markdown",
      "metadata": {},
      "source": [
        "Visualizamos las instancias originales (**explanation.data['orig']['X']**) y sus contrafactuales correspondientes (**explanation.data['cf']['X']**). Las imágenes se muestran en filas separadas, donde la fila superior muestra las instancias originales y la fila inferior muestra las contrafactuales. Además, mostraremos la etiqueta de cada instancia en el eje x de cada subfigura.\n"
      ]
    },
    {
      "cell_type": "code",
      "execution_count": 22,
      "metadata": {},
      "outputs": [
        {
          "data": {
            "image/png": "[encoded data removed]",
            "text/plain": [
              "<Figure size 3000x1000 with 20 Axes>"
            ]
          },
          "metadata": {},
          "output_type": "display_data"
        }
      ],
      "source": [
        "fig, ax = plt.subplots(2, 10, figsize=(30, 10))\n",
        "\n",
        "for i in range(10):\n",
        "    ax[0][i].imshow(explanation.data['orig']['X'][i], cmap='gray')\n",
        "    ax[1][i].imshow(explanation.data['cf']['X'][i], cmap='gray')\n",
        "\n",
        "    ax[0][i].set_xlabel(\"Label: \" + str(explanation.data['orig']['class'][i]))\n",
        "    ax[1][i].set_xlabel(\"Label: \" + str(explanation.data['cf']['class'][i]))\n",
        "\n",
        "    ax[0][i].tick_params(axis='x', which='both', bottom=False, top=False, labelbottom=False)\n",
        "    ax[0][i].tick_params(axis='y', which='both', left=False, right=False, labelleft=False)\n",
        "    ax[1][i].tick_params(axis='x', which='both', bottom=False, top=False, labelbottom=False)\n",
        "    ax[1][i].tick_params(axis='y', which='both', left=False, right=False, labelleft=False)\n",
        "\n",
        "text1 = ax[0][0].set_ylabel(\"X\", fontsize=20)\n",
        "text2 = ax[1][0].set_ylabel(\"X_hat\", fontsize=20)\n",
        "plt.tight_layout()\n",
        "plt.show()\n"
      ]
    },
    {
      "cell_type": "code",
      "execution_count": 26,
      "metadata": {},
      "outputs": [
        {
          "data": {
            "image/png": "[encoded data removed]",
            "text/plain": [
              "<Figure size 3000x1000 with 20 Axes>"
            ]
          },
          "metadata": {},
          "output_type": "display_data"
        }
      ],
      "source": [
        "fig, ax = plt.subplots(2, 10, figsize=(30, 10))\n",
        "\n",
        "for i in range(10, 20):\n",
        "    col = i % 10\n",
        "\n",
        "    ax[0][col].imshow(explanation.data['orig']['X'][i], cmap='gray')\n",
        "    ax[1][col].imshow(explanation.data['cf']['X'][i], cmap='gray')\n",
        "\n",
        "    ax[0][col].set_xlabel(\"Label: \" + str(explanation.data['orig']['class'][i]))\n",
        "    ax[1][col].set_xlabel(\"Label: \" + str(explanation.data['cf']['class'][i]))\n",
        "\n",
        "    ax[0][col].tick_params(axis='x', which='both', bottom=False, top=False, labelbottom=False)\n",
        "    ax[0][col].tick_params(axis='y', which='both', left=False, right=False, labelleft=False)\n",
        "    ax[1][col].tick_params(axis='x', which='both', bottom=False, top=False, labelbottom=False)\n",
        "    ax[1][col].tick_params(axis='y', which='both', left=False, right=False, labelleft=False)\n",
        "\n",
        "text1 = ax[0][0].set_ylabel(\"X\", fontsize=20)\n",
        "text2 = ax[1][0].set_ylabel(\"X_hat\", fontsize=20)\n",
        "plt.tight_layout()\n",
        "plt.show()\n"
      ]
    },
    {
      "cell_type": "markdown",
      "metadata": {},
      "source": [
        "Estos datos que acabamos de observar, representan las instancias originales y sus respectivas instancias contrafactuales de las 20 primeras muestras de datos, donde se han realizado cambios en las características de las própias imágenes con la finalidad de asemejarse a la clase con etiqueta 2.\n",
        "\n"
      ]
    },
    {
      "cell_type": "markdown",
      "metadata": {},
      "source": [
        "Para obtener más información sobre este método, visita alguno de los siguientes enlaces de la librería Alibi Explain:\n",
        "\n",
        "https://docs.seldon.io/projects/alibi/en/latest/overview/high_level.html#counterfactuals-with-reinforcement-learning\n",
        "\n",
        "https://docs.seldon.io/projects/alibi/en/latest/methods/CFRL.html"
      ]
    }
  ],
  "metadata": {
    "colab": {
      "provenance": []
    },
    "kernelspec": {
      "display_name": "Python 3",
      "name": "python3"
    },
    "language_info": {
      "codemirror_mode": {
        "name": "ipython",
        "version": 3
      },
      "file_extension": ".py",
      "mimetype": "text/x-python",
      "name": "python",
      "nbconvert_exporter": "python",
      "pygments_lexer": "ipython3",
      "version": "3.11.7"
    }
  },
  "nbformat": 4,
  "nbformat_minor": 0
}
